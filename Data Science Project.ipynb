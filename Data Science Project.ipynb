{
 "cells": [
  {
   "cell_type": "markdown",
   "id": "4cdbec42",
   "metadata": {
    "tags": []
   },
   "source": [
    "# Final Data Science Project"
   ]
  },
  {
   "cell_type": "markdown",
   "id": "354749a1",
   "metadata": {},
   "source": [
    "### Executive Summary\n",
    "\n",
    "This Dataset contains information on ratings, average salaries, necessary skills, sector, location and industry requirements for the position of a Data Scientist. We are analysing and comparing all the aspects of the position of a Data Scientist and its relevance from industry to sector, skills required and more.\n"
   ]
  },
  {
   "cell_type": "markdown",
   "id": "32729247",
   "metadata": {},
   "source": [
    "# Import Packages"
   ]
  },
  {
   "cell_type": "code",
   "execution_count": 4,
   "id": "d147d9ad",
   "metadata": {},
   "outputs": [],
   "source": [
    "import pandas as pd\n"
   ]
  },
  {
   "cell_type": "markdown",
   "id": "b28b3ec3",
   "metadata": {},
   "source": [
    "### Load Dataset\n"
   ]
  },
  {
   "cell_type": "code",
   "execution_count": 5,
   "id": "f23fc6ac",
   "metadata": {},
   "outputs": [],
   "source": [
    "Salaries = pd.read_csv(\"C:/Users/sever/Desktop/JennsSchool/FinalProject/Datasets/data_cleaned_2021.csv\")\n"
   ]
  },
  {
   "cell_type": "code",
   "execution_count": 6,
   "id": "5629d472",
   "metadata": {},
   "outputs": [],
   "source": [
    "Salaries.drop(['Salary Estimate', 'Job Description', 'Headquarters', 'Size', 'Founded', 'Revenue', 'Competitors', 'Hourly', 'Employer provided', 'company_txt', 'Age', 'job_title_sim', 'seniority_by_title'], axis= 1, inplace= True)"
   ]
  },
  {
   "cell_type": "markdown",
   "id": "1fe22280",
   "metadata": {},
   "source": [
    "#### Repeat columns dropped. "
   ]
  },
  {
   "cell_type": "code",
   "execution_count": 7,
   "id": "02e9f61a",
   "metadata": {},
   "outputs": [
    {
     "data": {
      "text/html": [
       "<div>\n",
       "<style scoped>\n",
       "    .dataframe tbody tr th:only-of-type {\n",
       "        vertical-align: middle;\n",
       "    }\n",
       "\n",
       "    .dataframe tbody tr th {\n",
       "        vertical-align: top;\n",
       "    }\n",
       "\n",
       "    .dataframe thead th {\n",
       "        text-align: right;\n",
       "    }\n",
       "</style>\n",
       "<table border=\"1\" class=\"dataframe\">\n",
       "  <thead>\n",
       "    <tr style=\"text-align: right;\">\n",
       "      <th></th>\n",
       "      <th>index</th>\n",
       "      <th>Job Title</th>\n",
       "      <th>Rating</th>\n",
       "      <th>Company Name</th>\n",
       "      <th>Location</th>\n",
       "      <th>Type of ownership</th>\n",
       "      <th>Industry</th>\n",
       "      <th>Sector</th>\n",
       "      <th>Lower Salary</th>\n",
       "      <th>Upper Salary</th>\n",
       "      <th>...</th>\n",
       "      <th>pytorch</th>\n",
       "      <th>scikit</th>\n",
       "      <th>tensor</th>\n",
       "      <th>hadoop</th>\n",
       "      <th>tableau</th>\n",
       "      <th>bi</th>\n",
       "      <th>flink</th>\n",
       "      <th>mongo</th>\n",
       "      <th>google_an</th>\n",
       "      <th>Degree</th>\n",
       "    </tr>\n",
       "  </thead>\n",
       "  <tbody>\n",
       "    <tr>\n",
       "      <th>0</th>\n",
       "      <td>0</td>\n",
       "      <td>Data Scientist</td>\n",
       "      <td>3.8</td>\n",
       "      <td>Tecolote Research\\n3.8</td>\n",
       "      <td>Albuquerque, NM</td>\n",
       "      <td>Company - Private</td>\n",
       "      <td>Aerospace &amp; Defense</td>\n",
       "      <td>Aerospace &amp; Defense</td>\n",
       "      <td>53</td>\n",
       "      <td>91</td>\n",
       "      <td>...</td>\n",
       "      <td>0</td>\n",
       "      <td>0</td>\n",
       "      <td>0</td>\n",
       "      <td>0</td>\n",
       "      <td>1</td>\n",
       "      <td>1</td>\n",
       "      <td>0</td>\n",
       "      <td>0</td>\n",
       "      <td>0</td>\n",
       "      <td>M</td>\n",
       "    </tr>\n",
       "    <tr>\n",
       "      <th>1</th>\n",
       "      <td>1</td>\n",
       "      <td>Healthcare Data Scientist</td>\n",
       "      <td>3.4</td>\n",
       "      <td>University of Maryland Medical System\\n3.4</td>\n",
       "      <td>Linthicum, MD</td>\n",
       "      <td>Other Organization</td>\n",
       "      <td>Health Care Services &amp; Hospitals</td>\n",
       "      <td>Health Care</td>\n",
       "      <td>63</td>\n",
       "      <td>112</td>\n",
       "      <td>...</td>\n",
       "      <td>0</td>\n",
       "      <td>0</td>\n",
       "      <td>0</td>\n",
       "      <td>0</td>\n",
       "      <td>0</td>\n",
       "      <td>0</td>\n",
       "      <td>0</td>\n",
       "      <td>0</td>\n",
       "      <td>0</td>\n",
       "      <td>M</td>\n",
       "    </tr>\n",
       "    <tr>\n",
       "      <th>2</th>\n",
       "      <td>2</td>\n",
       "      <td>Data Scientist</td>\n",
       "      <td>4.8</td>\n",
       "      <td>KnowBe4\\n4.8</td>\n",
       "      <td>Clearwater, FL</td>\n",
       "      <td>Company - Private</td>\n",
       "      <td>Security Services</td>\n",
       "      <td>Business Services</td>\n",
       "      <td>80</td>\n",
       "      <td>90</td>\n",
       "      <td>...</td>\n",
       "      <td>0</td>\n",
       "      <td>0</td>\n",
       "      <td>0</td>\n",
       "      <td>0</td>\n",
       "      <td>0</td>\n",
       "      <td>0</td>\n",
       "      <td>0</td>\n",
       "      <td>0</td>\n",
       "      <td>0</td>\n",
       "      <td>M</td>\n",
       "    </tr>\n",
       "    <tr>\n",
       "      <th>3</th>\n",
       "      <td>3</td>\n",
       "      <td>Data Scientist</td>\n",
       "      <td>3.8</td>\n",
       "      <td>PNNL\\n3.8</td>\n",
       "      <td>Richland, WA</td>\n",
       "      <td>Government</td>\n",
       "      <td>Energy</td>\n",
       "      <td>Oil, Gas, Energy &amp; Utilities</td>\n",
       "      <td>56</td>\n",
       "      <td>97</td>\n",
       "      <td>...</td>\n",
       "      <td>0</td>\n",
       "      <td>0</td>\n",
       "      <td>0</td>\n",
       "      <td>0</td>\n",
       "      <td>0</td>\n",
       "      <td>0</td>\n",
       "      <td>0</td>\n",
       "      <td>0</td>\n",
       "      <td>0</td>\n",
       "      <td>na</td>\n",
       "    </tr>\n",
       "    <tr>\n",
       "      <th>4</th>\n",
       "      <td>4</td>\n",
       "      <td>Data Scientist</td>\n",
       "      <td>2.9</td>\n",
       "      <td>Affinity Solutions\\n2.9</td>\n",
       "      <td>New York, NY</td>\n",
       "      <td>Company - Private</td>\n",
       "      <td>Advertising &amp; Marketing</td>\n",
       "      <td>Business Services</td>\n",
       "      <td>86</td>\n",
       "      <td>143</td>\n",
       "      <td>...</td>\n",
       "      <td>0</td>\n",
       "      <td>0</td>\n",
       "      <td>0</td>\n",
       "      <td>0</td>\n",
       "      <td>0</td>\n",
       "      <td>0</td>\n",
       "      <td>0</td>\n",
       "      <td>0</td>\n",
       "      <td>0</td>\n",
       "      <td>na</td>\n",
       "    </tr>\n",
       "  </tbody>\n",
       "</table>\n",
       "<p>5 rows × 29 columns</p>\n",
       "</div>"
      ],
      "text/plain": [
       "   index                  Job Title  Rating  \\\n",
       "0      0             Data Scientist     3.8   \n",
       "1      1  Healthcare Data Scientist     3.4   \n",
       "2      2             Data Scientist     4.8   \n",
       "3      3             Data Scientist     3.8   \n",
       "4      4             Data Scientist     2.9   \n",
       "\n",
       "                                 Company Name         Location  \\\n",
       "0                      Tecolote Research\\n3.8  Albuquerque, NM   \n",
       "1  University of Maryland Medical System\\n3.4    Linthicum, MD   \n",
       "2                                KnowBe4\\n4.8   Clearwater, FL   \n",
       "3                                   PNNL\\n3.8     Richland, WA   \n",
       "4                     Affinity Solutions\\n2.9     New York, NY   \n",
       "\n",
       "    Type of ownership                          Industry  \\\n",
       "0   Company - Private               Aerospace & Defense   \n",
       "1  Other Organization  Health Care Services & Hospitals   \n",
       "2   Company - Private                 Security Services   \n",
       "3          Government                            Energy   \n",
       "4   Company - Private           Advertising & Marketing   \n",
       "\n",
       "                         Sector  Lower Salary  Upper Salary  ...  pytorch  \\\n",
       "0           Aerospace & Defense            53            91  ...        0   \n",
       "1                   Health Care            63           112  ...        0   \n",
       "2             Business Services            80            90  ...        0   \n",
       "3  Oil, Gas, Energy & Utilities            56            97  ...        0   \n",
       "4             Business Services            86           143  ...        0   \n",
       "\n",
       "  scikit  tensor  hadoop  tableau  bi  flink  mongo  google_an  Degree  \n",
       "0      0       0       0        1   1      0      0          0       M  \n",
       "1      0       0       0        0   0      0      0          0       M  \n",
       "2      0       0       0        0   0      0      0          0       M  \n",
       "3      0       0       0        0   0      0      0          0      na  \n",
       "4      0       0       0        0   0      0      0          0      na  \n",
       "\n",
       "[5 rows x 29 columns]"
      ]
     },
     "execution_count": 7,
     "metadata": {},
     "output_type": "execute_result"
    }
   ],
   "source": [
    "Salaries.head()"
   ]
  },
  {
   "cell_type": "markdown",
   "id": "03847955",
   "metadata": {},
   "source": [
    "# Data Wrangling"
   ]
  },
  {
   "cell_type": "markdown",
   "id": "3cf5d099",
   "metadata": {},
   "source": [
    "### Descriptive statistics to show frequencies and means of Sectors, Average Salaries by Job titles, Company Name and Ownership"
   ]
  },
  {
   "cell_type": "code",
   "execution_count": 8,
   "id": "c0e32c38",
   "metadata": {},
   "outputs": [
    {
     "data": {
      "text/plain": [
       "Index(['index', 'Job Title', 'Rating', 'Company Name', 'Location',\n",
       "       'Type of ownership', 'Industry', 'Sector', 'Lower Salary',\n",
       "       'Upper Salary', 'Avg Salary(K)', 'Job Location', 'Python', 'spark',\n",
       "       'aws', 'excel', 'sql', 'sas', 'keras', 'pytorch', 'scikit', 'tensor',\n",
       "       'hadoop', 'tableau', 'bi', 'flink', 'mongo', 'google_an', 'Degree'],\n",
       "      dtype='object')"
      ]
     },
     "execution_count": 8,
     "metadata": {},
     "output_type": "execute_result"
    }
   ],
   "source": [
    "Salaries.columns"
   ]
  },
  {
   "cell_type": "code",
   "execution_count": 9,
   "id": "e70c97c5",
   "metadata": {},
   "outputs": [
    {
     "data": {
      "text/plain": [
       "Information Technology                180\n",
       "Biotech & Pharmaceuticals             112\n",
       "Business Services                      97\n",
       "Insurance                              69\n",
       "Health Care                            49\n",
       "Finance                                42\n",
       "Manufacturing                          34\n",
       "Aerospace & Defense                    25\n",
       "Education                              23\n",
       "Retail                                 15\n",
       "Oil, Gas, Energy & Utilities           14\n",
       "Government                             11\n",
       "-1                                     10\n",
       "Non-Profit                              9\n",
       "Transportation & Logistics              8\n",
       "Real Estate                             8\n",
       "Travel & Tourism                        8\n",
       "Telecommunications                      6\n",
       "Media                                   6\n",
       "Arts, Entertainment & Recreation        4\n",
       "Consumer Services                       4\n",
       "Mining & Metals                         3\n",
       "Construction, Repair & Maintenance      3\n",
       "Agriculture & Forestry                  1\n",
       "Accounting & Legal                      1\n",
       "Name: Sector, dtype: int64"
      ]
     },
     "execution_count": 9,
     "metadata": {},
     "output_type": "execute_result"
    }
   ],
   "source": [
    "Salaries['Sector'].value_counts()"
   ]
  },
  {
   "cell_type": "code",
   "execution_count": 10,
   "id": "ab85ca04",
   "metadata": {},
   "outputs": [
    {
     "data": {
      "text/plain": [
       "Data Scientist                     131\n",
       "Data Engineer                       53\n",
       "Senior Data Scientist               34\n",
       "Data Analyst                        15\n",
       "Senior Data Engineer                14\n",
       "                                  ... \n",
       "Data Scientist/ML Engineer           1\n",
       "Sr. Data Scientist                   1\n",
       "Data Engineer 4 - Contract           1\n",
       "Data Analyst - Asset Management      1\n",
       "Machine Learning Engineer (NLP)      1\n",
       "Name: Job Title, Length: 264, dtype: int64"
      ]
     },
     "execution_count": 10,
     "metadata": {},
     "output_type": "execute_result"
    }
   ],
   "source": [
    "Salaries['Job Title'].value_counts()"
   ]
  },
  {
   "cell_type": "code",
   "execution_count": 11,
   "id": "8107c56c",
   "metadata": {},
   "outputs": [
    {
     "data": {
      "text/plain": [
       "Job Title\n",
       "Ag Data Scientist                                      80.5\n",
       "Analytics - Business Assurance Data Analyst            43.0\n",
       "Analytics Consultant                                   66.5\n",
       "Analytics Manager                                      87.5\n",
       "Analytics Manager - Data Mart                          64.0\n",
       "                                                      ...  \n",
       "System and Data Analyst                                59.0\n",
       "Systems Engineer II - Data Analyst                     62.5\n",
       "Technology-Minded, Data Professional Opportunities     70.5\n",
       "VP, Data Science                                      124.5\n",
       "Web Data Analyst                                      106.0\n",
       "Name: Avg Salary(K), Length: 264, dtype: float64"
      ]
     },
     "execution_count": 11,
     "metadata": {},
     "output_type": "execute_result"
    }
   ],
   "source": [
    "Salaries.groupby(['Job Title'])['Avg Salary(K)'].mean()"
   ]
  },
  {
   "cell_type": "code",
   "execution_count": 12,
   "id": "cacce008",
   "metadata": {},
   "outputs": [
    {
     "data": {
      "text/plain": [
       "MassMutual\\n3.6                                         14\n",
       "Reynolds American\\n3.1                                  14\n",
       "Takeda Pharmaceuticals\\n3.7                             14\n",
       "Software Engineering Institute\\n2.6                     11\n",
       "PNNL\\n3.8                                               10\n",
       "                                                        ..\n",
       "Dayton Freight Lines, Inc.\\n4.3                          1\n",
       "Community Action Partnership of San Luis Obispo\\n2.8     1\n",
       "TrueAccord\\n3.4                                          1\n",
       "DRB Systems\\n4.0                                         1\n",
       "Fivestars\\n3.9                                           1\n",
       "Name: Company Name, Length: 343, dtype: int64"
      ]
     },
     "execution_count": 12,
     "metadata": {},
     "output_type": "execute_result"
    }
   ],
   "source": [
    "Salaries['Company Name'].value_counts()"
   ]
  },
  {
   "cell_type": "markdown",
   "id": "24519f52",
   "metadata": {},
   "source": [
    "Top 5 companies that had the most counts:\n",
    "--Mass Mutual is an insurance company in Spring Field, Massachusetts.  They are deal with life insurance, retirement, college and home budgeting plans.\n",
    "--Reynolds American is a Research Tobacco company in Winston-Salem, NC. They are the subsidy company to the British American Tobacco p.l.s and parent to the products of Newport, Camel, Snus and some others.\n",
    "--Takeda Phamaseuticals is a Japan owned company that has world wide officed in US, Europe, and Canada. The US company is in Lexington, MA.  They focus research on oncology, rare diseases, neuroscience, gastroenterology, plasma-derived Therapy, and vaccines. \n",
    "--Software Engineering Institute is a research and development center sponsored by the US Dept. of Defense in Pittsburg, PA.  SEI has delivered innovative methods, tools, algorithms, and frameworks to meet current software and cybersecurity needs and provide a foundation for combating future ones.\n",
    "--PNNL is a research facility in Washington State. PNNL’s core capabilities are organized into five areas: 1) Chemical and Materials Sciences, 2) Computational and Mathematical Sciences, 3) Earth and Biological Sciences, 4) Engineering, and 5) User Facilities and Advanced Instrumentation."
   ]
  },
  {
   "cell_type": "markdown",
   "id": "1e032ab1",
   "metadata": {},
   "source": [
    "Two field that are mentioned the most are of Information Technology and Biotech_and_Pharmaceuticals.  These are the largest sectors that are repeated in the count."
   ]
  },
  {
   "cell_type": "code",
   "execution_count": 13,
   "id": "d6bc5ce1",
   "metadata": {},
   "outputs": [
    {
     "data": {
      "text/plain": [
       "Company - Private                 410\n",
       "Company - Public                  193\n",
       "Nonprofit Organization             55\n",
       "Subsidiary or Business Segment     34\n",
       "Government                         15\n",
       "Hospital                           15\n",
       "College / University               13\n",
       "Other Organization                  5\n",
       "School / School District            2\n",
       "Name: Type of ownership, dtype: int64"
      ]
     },
     "execution_count": 13,
     "metadata": {},
     "output_type": "execute_result"
    }
   ],
   "source": [
    "Salaries[\"Type of ownership\"].value_counts()"
   ]
  },
  {
   "cell_type": "markdown",
   "id": "6e465d61",
   "metadata": {},
   "source": [
    "There are more Private companies than Public companies.  In researching for the best place to work, private companies have the most opportunites for the best salary."
   ]
  },
  {
   "cell_type": "code",
   "execution_count": 14,
   "id": "1d11385c",
   "metadata": {},
   "outputs": [],
   "source": [
    "Salaries[['City', 'State']] = Salaries['Location'].str.split(',', 1, expand=True)"
   ]
  },
  {
   "cell_type": "markdown",
   "id": "a5c99f2a",
   "metadata": {},
   "source": [
    "## Visualing Outliers"
   ]
  },
  {
   "cell_type": "code",
   "execution_count": 15,
   "id": "dee2d8aa",
   "metadata": {},
   "outputs": [
    {
     "data": {
      "text/html": [
       "<div>\n",
       "<style scoped>\n",
       "    .dataframe tbody tr th:only-of-type {\n",
       "        vertical-align: middle;\n",
       "    }\n",
       "\n",
       "    .dataframe tbody tr th {\n",
       "        vertical-align: top;\n",
       "    }\n",
       "\n",
       "    .dataframe thead th {\n",
       "        text-align: right;\n",
       "    }\n",
       "</style>\n",
       "<table border=\"1\" class=\"dataframe\">\n",
       "  <thead>\n",
       "    <tr style=\"text-align: right;\">\n",
       "      <th></th>\n",
       "      <th>index</th>\n",
       "      <th>Job Title</th>\n",
       "      <th>Rating</th>\n",
       "      <th>Company Name</th>\n",
       "      <th>Location</th>\n",
       "      <th>Type of ownership</th>\n",
       "      <th>Industry</th>\n",
       "      <th>Sector</th>\n",
       "      <th>Lower Salary</th>\n",
       "      <th>Upper Salary</th>\n",
       "      <th>...</th>\n",
       "      <th>tensor</th>\n",
       "      <th>hadoop</th>\n",
       "      <th>tableau</th>\n",
       "      <th>bi</th>\n",
       "      <th>flink</th>\n",
       "      <th>mongo</th>\n",
       "      <th>google_an</th>\n",
       "      <th>Degree</th>\n",
       "      <th>City</th>\n",
       "      <th>State</th>\n",
       "    </tr>\n",
       "  </thead>\n",
       "  <tbody>\n",
       "    <tr>\n",
       "      <th>0</th>\n",
       "      <td>0</td>\n",
       "      <td>Data Scientist</td>\n",
       "      <td>3.8</td>\n",
       "      <td>Tecolote Research\\n3.8</td>\n",
       "      <td>Albuquerque, NM</td>\n",
       "      <td>Company - Private</td>\n",
       "      <td>Aerospace &amp; Defense</td>\n",
       "      <td>Aerospace &amp; Defense</td>\n",
       "      <td>53</td>\n",
       "      <td>91</td>\n",
       "      <td>...</td>\n",
       "      <td>0</td>\n",
       "      <td>0</td>\n",
       "      <td>1</td>\n",
       "      <td>1</td>\n",
       "      <td>0</td>\n",
       "      <td>0</td>\n",
       "      <td>0</td>\n",
       "      <td>M</td>\n",
       "      <td>Albuquerque</td>\n",
       "      <td>NM</td>\n",
       "    </tr>\n",
       "    <tr>\n",
       "      <th>1</th>\n",
       "      <td>1</td>\n",
       "      <td>Healthcare Data Scientist</td>\n",
       "      <td>3.4</td>\n",
       "      <td>University of Maryland Medical System\\n3.4</td>\n",
       "      <td>Linthicum, MD</td>\n",
       "      <td>Other Organization</td>\n",
       "      <td>Health Care Services &amp; Hospitals</td>\n",
       "      <td>Health Care</td>\n",
       "      <td>63</td>\n",
       "      <td>112</td>\n",
       "      <td>...</td>\n",
       "      <td>0</td>\n",
       "      <td>0</td>\n",
       "      <td>0</td>\n",
       "      <td>0</td>\n",
       "      <td>0</td>\n",
       "      <td>0</td>\n",
       "      <td>0</td>\n",
       "      <td>M</td>\n",
       "      <td>Linthicum</td>\n",
       "      <td>MD</td>\n",
       "    </tr>\n",
       "    <tr>\n",
       "      <th>2</th>\n",
       "      <td>2</td>\n",
       "      <td>Data Scientist</td>\n",
       "      <td>4.8</td>\n",
       "      <td>KnowBe4\\n4.8</td>\n",
       "      <td>Clearwater, FL</td>\n",
       "      <td>Company - Private</td>\n",
       "      <td>Security Services</td>\n",
       "      <td>Business Services</td>\n",
       "      <td>80</td>\n",
       "      <td>90</td>\n",
       "      <td>...</td>\n",
       "      <td>0</td>\n",
       "      <td>0</td>\n",
       "      <td>0</td>\n",
       "      <td>0</td>\n",
       "      <td>0</td>\n",
       "      <td>0</td>\n",
       "      <td>0</td>\n",
       "      <td>M</td>\n",
       "      <td>Clearwater</td>\n",
       "      <td>FL</td>\n",
       "    </tr>\n",
       "    <tr>\n",
       "      <th>3</th>\n",
       "      <td>3</td>\n",
       "      <td>Data Scientist</td>\n",
       "      <td>3.8</td>\n",
       "      <td>PNNL\\n3.8</td>\n",
       "      <td>Richland, WA</td>\n",
       "      <td>Government</td>\n",
       "      <td>Energy</td>\n",
       "      <td>Oil, Gas, Energy &amp; Utilities</td>\n",
       "      <td>56</td>\n",
       "      <td>97</td>\n",
       "      <td>...</td>\n",
       "      <td>0</td>\n",
       "      <td>0</td>\n",
       "      <td>0</td>\n",
       "      <td>0</td>\n",
       "      <td>0</td>\n",
       "      <td>0</td>\n",
       "      <td>0</td>\n",
       "      <td>na</td>\n",
       "      <td>Richland</td>\n",
       "      <td>WA</td>\n",
       "    </tr>\n",
       "    <tr>\n",
       "      <th>4</th>\n",
       "      <td>4</td>\n",
       "      <td>Data Scientist</td>\n",
       "      <td>2.9</td>\n",
       "      <td>Affinity Solutions\\n2.9</td>\n",
       "      <td>New York, NY</td>\n",
       "      <td>Company - Private</td>\n",
       "      <td>Advertising &amp; Marketing</td>\n",
       "      <td>Business Services</td>\n",
       "      <td>86</td>\n",
       "      <td>143</td>\n",
       "      <td>...</td>\n",
       "      <td>0</td>\n",
       "      <td>0</td>\n",
       "      <td>0</td>\n",
       "      <td>0</td>\n",
       "      <td>0</td>\n",
       "      <td>0</td>\n",
       "      <td>0</td>\n",
       "      <td>na</td>\n",
       "      <td>New York</td>\n",
       "      <td>NY</td>\n",
       "    </tr>\n",
       "  </tbody>\n",
       "</table>\n",
       "<p>5 rows × 31 columns</p>\n",
       "</div>"
      ],
      "text/plain": [
       "   index                  Job Title  Rating  \\\n",
       "0      0             Data Scientist     3.8   \n",
       "1      1  Healthcare Data Scientist     3.4   \n",
       "2      2             Data Scientist     4.8   \n",
       "3      3             Data Scientist     3.8   \n",
       "4      4             Data Scientist     2.9   \n",
       "\n",
       "                                 Company Name         Location  \\\n",
       "0                      Tecolote Research\\n3.8  Albuquerque, NM   \n",
       "1  University of Maryland Medical System\\n3.4    Linthicum, MD   \n",
       "2                                KnowBe4\\n4.8   Clearwater, FL   \n",
       "3                                   PNNL\\n3.8     Richland, WA   \n",
       "4                     Affinity Solutions\\n2.9     New York, NY   \n",
       "\n",
       "    Type of ownership                          Industry  \\\n",
       "0   Company - Private               Aerospace & Defense   \n",
       "1  Other Organization  Health Care Services & Hospitals   \n",
       "2   Company - Private                 Security Services   \n",
       "3          Government                            Energy   \n",
       "4   Company - Private           Advertising & Marketing   \n",
       "\n",
       "                         Sector  Lower Salary  Upper Salary  ...  tensor  \\\n",
       "0           Aerospace & Defense            53            91  ...       0   \n",
       "1                   Health Care            63           112  ...       0   \n",
       "2             Business Services            80            90  ...       0   \n",
       "3  Oil, Gas, Energy & Utilities            56            97  ...       0   \n",
       "4             Business Services            86           143  ...       0   \n",
       "\n",
       "  hadoop  tableau  bi  flink  mongo  google_an  Degree         City  State  \n",
       "0      0        1   1      0      0          0       M  Albuquerque     NM  \n",
       "1      0        0   0      0      0          0       M    Linthicum     MD  \n",
       "2      0        0   0      0      0          0       M   Clearwater     FL  \n",
       "3      0        0   0      0      0          0      na     Richland     WA  \n",
       "4      0        0   0      0      0          0      na     New York     NY  \n",
       "\n",
       "[5 rows x 31 columns]"
      ]
     },
     "execution_count": 15,
     "metadata": {},
     "output_type": "execute_result"
    }
   ],
   "source": [
    "Salaries.head()"
   ]
  },
  {
   "cell_type": "code",
   "execution_count": 16,
   "id": "5b5165b8",
   "metadata": {},
   "outputs": [
    {
     "data": {
      "text/plain": [
       " CA                 151\n",
       " MA                 103\n",
       " NY                  72\n",
       " VA                  41\n",
       " IL                  40\n",
       " MD                  35\n",
       " PA                  33\n",
       " TX                  28\n",
       " WA                  21\n",
       " NC                  21\n",
       " NJ                  17\n",
       " FL                  16\n",
       " OH                  14\n",
       " TN                  13\n",
       " DC                  11\n",
       " CO                  11\n",
       " WI                  10\n",
       " IN                  10\n",
       " UT                  10\n",
       " AZ                   9\n",
       " MO                   9\n",
       " AL                   8\n",
       " GA                   6\n",
       " KY                   6\n",
       " DE                   6\n",
       " MI                   6\n",
       " CT                   5\n",
       " IA                   5\n",
       " LA                   4\n",
       " OR                   4\n",
       " NE                   4\n",
       " NM                   3\n",
       " KS                   3\n",
       " ID                   2\n",
       " MN                   2\n",
       " Los Angeles, CA      1\n",
       " RI                   1\n",
       " SC                   1\n",
       "Name: State, dtype: int64"
      ]
     },
     "execution_count": 16,
     "metadata": {},
     "output_type": "execute_result"
    }
   ],
   "source": [
    "state_count = Salaries[\"State\"].value_counts()\n",
    "state_count"
   ]
  },
  {
   "cell_type": "code",
   "execution_count": 17,
   "id": "778afe23",
   "metadata": {},
   "outputs": [
    {
     "data": {
      "text/html": [
       "<div>\n",
       "<style scoped>\n",
       "    .dataframe tbody tr th:only-of-type {\n",
       "        vertical-align: middle;\n",
       "    }\n",
       "\n",
       "    .dataframe tbody tr th {\n",
       "        vertical-align: top;\n",
       "    }\n",
       "\n",
       "    .dataframe thead th {\n",
       "        text-align: right;\n",
       "    }\n",
       "</style>\n",
       "<table border=\"1\" class=\"dataframe\">\n",
       "  <thead>\n",
       "    <tr style=\"text-align: right;\">\n",
       "      <th></th>\n",
       "      <th>state_G-L</th>\n",
       "      <th>counts</th>\n",
       "    </tr>\n",
       "  </thead>\n",
       "  <tbody>\n",
       "    <tr>\n",
       "      <th>0</th>\n",
       "      <td>CA</td>\n",
       "      <td>151</td>\n",
       "    </tr>\n",
       "    <tr>\n",
       "      <th>1</th>\n",
       "      <td>MA</td>\n",
       "      <td>103</td>\n",
       "    </tr>\n",
       "    <tr>\n",
       "      <th>2</th>\n",
       "      <td>NY</td>\n",
       "      <td>72</td>\n",
       "    </tr>\n",
       "    <tr>\n",
       "      <th>3</th>\n",
       "      <td>VA</td>\n",
       "      <td>41</td>\n",
       "    </tr>\n",
       "    <tr>\n",
       "      <th>4</th>\n",
       "      <td>IL</td>\n",
       "      <td>40</td>\n",
       "    </tr>\n",
       "    <tr>\n",
       "      <th>5</th>\n",
       "      <td>MD</td>\n",
       "      <td>35</td>\n",
       "    </tr>\n",
       "    <tr>\n",
       "      <th>6</th>\n",
       "      <td>PA</td>\n",
       "      <td>33</td>\n",
       "    </tr>\n",
       "    <tr>\n",
       "      <th>7</th>\n",
       "      <td>TX</td>\n",
       "      <td>28</td>\n",
       "    </tr>\n",
       "    <tr>\n",
       "      <th>8</th>\n",
       "      <td>WA</td>\n",
       "      <td>21</td>\n",
       "    </tr>\n",
       "    <tr>\n",
       "      <th>9</th>\n",
       "      <td>NC</td>\n",
       "      <td>21</td>\n",
       "    </tr>\n",
       "    <tr>\n",
       "      <th>10</th>\n",
       "      <td>NJ</td>\n",
       "      <td>17</td>\n",
       "    </tr>\n",
       "    <tr>\n",
       "      <th>11</th>\n",
       "      <td>FL</td>\n",
       "      <td>16</td>\n",
       "    </tr>\n",
       "    <tr>\n",
       "      <th>12</th>\n",
       "      <td>OH</td>\n",
       "      <td>14</td>\n",
       "    </tr>\n",
       "    <tr>\n",
       "      <th>13</th>\n",
       "      <td>TN</td>\n",
       "      <td>13</td>\n",
       "    </tr>\n",
       "    <tr>\n",
       "      <th>14</th>\n",
       "      <td>DC</td>\n",
       "      <td>11</td>\n",
       "    </tr>\n",
       "    <tr>\n",
       "      <th>15</th>\n",
       "      <td>CO</td>\n",
       "      <td>11</td>\n",
       "    </tr>\n",
       "    <tr>\n",
       "      <th>16</th>\n",
       "      <td>WI</td>\n",
       "      <td>10</td>\n",
       "    </tr>\n",
       "    <tr>\n",
       "      <th>17</th>\n",
       "      <td>IN</td>\n",
       "      <td>10</td>\n",
       "    </tr>\n",
       "    <tr>\n",
       "      <th>18</th>\n",
       "      <td>UT</td>\n",
       "      <td>10</td>\n",
       "    </tr>\n",
       "    <tr>\n",
       "      <th>19</th>\n",
       "      <td>AZ</td>\n",
       "      <td>9</td>\n",
       "    </tr>\n",
       "    <tr>\n",
       "      <th>20</th>\n",
       "      <td>MO</td>\n",
       "      <td>9</td>\n",
       "    </tr>\n",
       "    <tr>\n",
       "      <th>21</th>\n",
       "      <td>AL</td>\n",
       "      <td>8</td>\n",
       "    </tr>\n",
       "    <tr>\n",
       "      <th>22</th>\n",
       "      <td>GA</td>\n",
       "      <td>6</td>\n",
       "    </tr>\n",
       "    <tr>\n",
       "      <th>23</th>\n",
       "      <td>KY</td>\n",
       "      <td>6</td>\n",
       "    </tr>\n",
       "    <tr>\n",
       "      <th>24</th>\n",
       "      <td>DE</td>\n",
       "      <td>6</td>\n",
       "    </tr>\n",
       "    <tr>\n",
       "      <th>25</th>\n",
       "      <td>MI</td>\n",
       "      <td>6</td>\n",
       "    </tr>\n",
       "    <tr>\n",
       "      <th>26</th>\n",
       "      <td>CT</td>\n",
       "      <td>5</td>\n",
       "    </tr>\n",
       "    <tr>\n",
       "      <th>27</th>\n",
       "      <td>IA</td>\n",
       "      <td>5</td>\n",
       "    </tr>\n",
       "    <tr>\n",
       "      <th>28</th>\n",
       "      <td>LA</td>\n",
       "      <td>4</td>\n",
       "    </tr>\n",
       "    <tr>\n",
       "      <th>29</th>\n",
       "      <td>OR</td>\n",
       "      <td>4</td>\n",
       "    </tr>\n",
       "    <tr>\n",
       "      <th>30</th>\n",
       "      <td>NE</td>\n",
       "      <td>4</td>\n",
       "    </tr>\n",
       "    <tr>\n",
       "      <th>31</th>\n",
       "      <td>NM</td>\n",
       "      <td>3</td>\n",
       "    </tr>\n",
       "    <tr>\n",
       "      <th>32</th>\n",
       "      <td>KS</td>\n",
       "      <td>3</td>\n",
       "    </tr>\n",
       "    <tr>\n",
       "      <th>33</th>\n",
       "      <td>ID</td>\n",
       "      <td>2</td>\n",
       "    </tr>\n",
       "    <tr>\n",
       "      <th>34</th>\n",
       "      <td>MN</td>\n",
       "      <td>2</td>\n",
       "    </tr>\n",
       "    <tr>\n",
       "      <th>35</th>\n",
       "      <td>Los Angeles, CA</td>\n",
       "      <td>1</td>\n",
       "    </tr>\n",
       "    <tr>\n",
       "      <th>36</th>\n",
       "      <td>RI</td>\n",
       "      <td>1</td>\n",
       "    </tr>\n",
       "    <tr>\n",
       "      <th>37</th>\n",
       "      <td>SC</td>\n",
       "      <td>1</td>\n",
       "    </tr>\n",
       "  </tbody>\n",
       "</table>\n",
       "</div>"
      ],
      "text/plain": [
       "           state_G-L  counts\n",
       "0                 CA     151\n",
       "1                 MA     103\n",
       "2                 NY      72\n",
       "3                 VA      41\n",
       "4                 IL      40\n",
       "5                 MD      35\n",
       "6                 PA      33\n",
       "7                 TX      28\n",
       "8                 WA      21\n",
       "9                 NC      21\n",
       "10                NJ      17\n",
       "11                FL      16\n",
       "12                OH      14\n",
       "13                TN      13\n",
       "14                DC      11\n",
       "15                CO      11\n",
       "16                WI      10\n",
       "17                IN      10\n",
       "18                UT      10\n",
       "19                AZ       9\n",
       "20                MO       9\n",
       "21                AL       8\n",
       "22                GA       6\n",
       "23                KY       6\n",
       "24                DE       6\n",
       "25                MI       6\n",
       "26                CT       5\n",
       "27                IA       5\n",
       "28                LA       4\n",
       "29                OR       4\n",
       "30                NE       4\n",
       "31                NM       3\n",
       "32                KS       3\n",
       "33                ID       2\n",
       "34                MN       2\n",
       "35   Los Angeles, CA       1\n",
       "36                RI       1\n",
       "37                SC       1"
      ]
     },
     "execution_count": 17,
     "metadata": {},
     "output_type": "execute_result"
    }
   ],
   "source": [
    "state_count = Salaries[\"State\"].value_counts().rename_axis('state_G-L').reset_index(name='counts')\n",
    "state_count"
   ]
  },
  {
   "cell_type": "markdown",
   "id": "a083dd09",
   "metadata": {},
   "source": [
    "The top states that have the most opportunity are California, Massachusetts, New York, Virginia, and Illinois."
   ]
  },
  {
   "cell_type": "code",
   "execution_count": 121,
   "id": "4570ccec",
   "metadata": {},
   "outputs": [
    {
     "name": "stdout",
     "output_type": "stream",
     "text": [
      "0    728\n",
      "1     14\n",
      "Name: google_an, dtype: int64\n"
     ]
    }
   ],
   "source": [
    "Google_an= Salaries[\"google_an\"].value_counts()\n",
    "print(Google_an)"
   ]
  },
  {
   "cell_type": "code",
   "execution_count": 122,
   "id": "b0c7c7fa",
   "metadata": {},
   "outputs": [
    {
     "name": "stdout",
     "output_type": "stream",
     "text": [
      "0    705\n",
      "1     37\n",
      "Name: mongo, dtype: int64\n"
     ]
    }
   ],
   "source": [
    "Mongo= Salaries[\"mongo\"].value_counts()\n",
    "print(Mongo)"
   ]
  },
  {
   "cell_type": "code",
   "execution_count": 123,
   "id": "f8fd90f1",
   "metadata": {},
   "outputs": [
    {
     "name": "stdout",
     "output_type": "stream",
     "text": [
      "0    732\n",
      "1     10\n",
      "Name: flink, dtype: int64\n"
     ]
    }
   ],
   "source": [
    "Flink= Salaries[\"flink\"].value_counts()\n",
    "print(Flink)"
   ]
  },
  {
   "cell_type": "code",
   "execution_count": 124,
   "id": "daa83385",
   "metadata": {},
   "outputs": [
    {
     "name": "stdout",
     "output_type": "stream",
     "text": [
      "0    686\n",
      "1     56\n",
      "Name: bi, dtype: int64\n"
     ]
    }
   ],
   "source": [
    "Bi= Salaries[\"bi\"].value_counts()\n",
    "print(Bi)"
   ]
  },
  {
   "cell_type": "code",
   "execution_count": 125,
   "id": "2d46e637",
   "metadata": {},
   "outputs": [
    {
     "name": "stdout",
     "output_type": "stream",
     "text": [
      "0    594\n",
      "1    148\n",
      "Name: tableau, dtype: int64\n"
     ]
    }
   ],
   "source": [
    "Tableau= Salaries[\"tableau\"].value_counts()\n",
    "print(Tableau)"
   ]
  },
  {
   "cell_type": "code",
   "execution_count": 126,
   "id": "a6e331a8",
   "metadata": {},
   "outputs": [
    {
     "name": "stdout",
     "output_type": "stream",
     "text": [
      "0    618\n",
      "1    124\n",
      "Name: hadoop, dtype: int64\n"
     ]
    }
   ],
   "source": [
    "Hadoop= Salaries[\"hadoop\"].value_counts()\n",
    "print(Hadoop)"
   ]
  },
  {
   "cell_type": "code",
   "execution_count": 127,
   "id": "ce8d2d83",
   "metadata": {},
   "outputs": [
    {
     "name": "stdout",
     "output_type": "stream",
     "text": [
      "0    670\n",
      "1     72\n",
      "Name: tensor, dtype: int64\n"
     ]
    }
   ],
   "source": [
    "Tensor= Salaries[\"tensor\"].value_counts()\n",
    "print(Tensor)"
   ]
  },
  {
   "cell_type": "code",
   "execution_count": 128,
   "id": "4921ffcf",
   "metadata": {},
   "outputs": [
    {
     "name": "stdout",
     "output_type": "stream",
     "text": [
      "0    688\n",
      "1     54\n",
      "Name: scikit, dtype: int64\n"
     ]
    }
   ],
   "source": [
    "Scikit= Salaries[\"scikit\"].value_counts()\n",
    "print(Scikit)"
   ]
  },
  {
   "cell_type": "code",
   "execution_count": 129,
   "id": "6525863d",
   "metadata": {},
   "outputs": [
    {
     "name": "stdout",
     "output_type": "stream",
     "text": [
      "0    703\n",
      "1     39\n",
      "Name: pytorch, dtype: int64\n"
     ]
    }
   ],
   "source": [
    "Pytorch= Salaries[\"pytorch\"].value_counts()\n",
    "print(Pytorch)"
   ]
  },
  {
   "cell_type": "code",
   "execution_count": 130,
   "id": "e75b7e96",
   "metadata": {},
   "outputs": [
    {
     "name": "stdout",
     "output_type": "stream",
     "text": [
      "0    713\n",
      "1     29\n",
      "Name: keras, dtype: int64\n"
     ]
    }
   ],
   "source": [
    "Keras = Salaries[\"keras\"].value_counts()\n",
    "print(Keras)"
   ]
  },
  {
   "cell_type": "code",
   "execution_count": 131,
   "id": "97288d9d",
   "metadata": {},
   "outputs": [
    {
     "name": "stdout",
     "output_type": "stream",
     "text": [
      "0    676\n",
      "1     66\n",
      "Name: sas, dtype: int64\n"
     ]
    }
   ],
   "source": [
    "Sas= Salaries[\"sas\"].value_counts()\n",
    "print(Sas)"
   ]
  },
  {
   "cell_type": "code",
   "execution_count": 132,
   "id": "81315c3d",
   "metadata": {},
   "outputs": [
    {
     "name": "stdout",
     "output_type": "stream",
     "text": [
      "1    380\n",
      "0    362\n",
      "Name: sql, dtype: int64\n"
     ]
    }
   ],
   "source": [
    "Sql= Salaries[\"sql\"].value_counts()\n",
    "print(Sql)"
   ]
  },
  {
   "cell_type": "code",
   "execution_count": 133,
   "id": "2680aa9d",
   "metadata": {},
   "outputs": [
    {
     "name": "stdout",
     "output_type": "stream",
     "text": [
      "1    388\n",
      "0    354\n",
      "Name: excel, dtype: int64\n"
     ]
    }
   ],
   "source": [
    "Excel= Salaries[\"excel\"].value_counts()\n",
    "print(Excel)"
   ]
  },
  {
   "cell_type": "code",
   "execution_count": 134,
   "id": "e1cb1320",
   "metadata": {},
   "outputs": [
    {
     "name": "stdout",
     "output_type": "stream",
     "text": [
      "0    575\n",
      "1    167\n",
      "Name: spark, dtype: int64\n"
     ]
    }
   ],
   "source": [
    "Spark= Salaries[\"spark\"].value_counts()\n",
    "print(Spark)"
   ]
  },
  {
   "cell_type": "code",
   "execution_count": 135,
   "id": "f164dc48",
   "metadata": {},
   "outputs": [
    {
     "name": "stdout",
     "output_type": "stream",
     "text": [
      "0    566\n",
      "1    176\n",
      "Name: aws, dtype: int64\n"
     ]
    }
   ],
   "source": [
    "Aws= Salaries[\"aws\"].value_counts()\n",
    "print(Aws)"
   ]
  },
  {
   "cell_type": "code",
   "execution_count": 136,
   "id": "d7520209",
   "metadata": {},
   "outputs": [
    {
     "name": "stdout",
     "output_type": "stream",
     "text": [
      "1    392\n",
      "0    350\n",
      "Name: Python, dtype: int64\n"
     ]
    }
   ],
   "source": [
    "Python= Salaries[\"Python\"].value_counts()\n",
    "print(Python)"
   ]
  },
  {
   "cell_type": "code",
   "execution_count": 138,
   "id": "d99c2e8d",
   "metadata": {},
   "outputs": [
    {
     "data": {
      "image/png": "[encoded data removed]",
      "text/plain": [
       "<Figure size 1224x360 with 1 Axes>"
      ]
     },
     "metadata": {
      "needs_background": "light"
     },
     "output_type": "display_data"
    }
   ],
   "source": [
    "SalariesDF = {'Python':392, 'Excel':388, 'Sql':380, 'Aws':176, 'Spark':167, 'Tableau':148, 'Hadoop':124, 'Tensor':72, 'Sas':66, 'Bi':56, 'Scikit':54, 'Pytorch':39, 'Mongo':37,'Keras':29, 'Google_an':14, 'Flink':10}\n",
    "SkillsDF = list(SalariesDF.keys())\n",
    "ValuesDF = list(SalariesDF.values())\n",
    "fig = plt.figure(figsize = (17, 5))\n",
    "\n",
    "plt.bar(SkillsDF, ValuesDF, color ='maroon',\n",
    "\t\twidth = 0.4)\n",
    "\n",
    "plt.xlabel(\"Skills\")\n",
    "plt.ylabel(\"Skills count\")\n",
    "plt.title(\"Most Required to Least Required Skills\")\n",
    "\n",
    "plt.show()\n"
   ]
  },
  {
   "cell_type": "markdown",
   "id": "96537c17",
   "metadata": {},
   "source": [
    "# Data Exploration"
   ]
  },
  {
   "cell_type": "markdown",
   "id": "df25d2c7",
   "metadata": {},
   "source": [
    "## Correlation Analysis"
   ]
  },
  {
   "cell_type": "markdown",
   "id": "daae2811",
   "metadata": {},
   "source": [
    "### Import Packages"
   ]
  },
  {
   "cell_type": "code",
   "execution_count": 34,
   "id": "f621f858",
   "metadata": {},
   "outputs": [],
   "source": [
    "import seaborn as sb\n",
    "import pandas as pd\n",
    "import numpy as np\n",
    "import seaborn as sns\n",
    "import matplotlib.pyplot as plt"
   ]
  },
  {
   "cell_type": "markdown",
   "id": "84ef2b38",
   "metadata": {},
   "source": [
    "### Testing for Multicollinearity"
   ]
  },
  {
   "cell_type": "code",
   "execution_count": 35,
   "id": "99e55e9f",
   "metadata": {},
   "outputs": [
    {
     "data": {
      "text/html": [
       "<div>\n",
       "<style scoped>\n",
       "    .dataframe tbody tr th:only-of-type {\n",
       "        vertical-align: middle;\n",
       "    }\n",
       "\n",
       "    .dataframe tbody tr th {\n",
       "        vertical-align: top;\n",
       "    }\n",
       "\n",
       "    .dataframe thead th {\n",
       "        text-align: right;\n",
       "    }\n",
       "</style>\n",
       "<table border=\"1\" class=\"dataframe\">\n",
       "  <thead>\n",
       "    <tr style=\"text-align: right;\">\n",
       "      <th></th>\n",
       "      <th>index</th>\n",
       "      <th>Rating</th>\n",
       "      <th>Lower Salary</th>\n",
       "      <th>Upper Salary</th>\n",
       "      <th>Avg Salary(K)</th>\n",
       "      <th>Python</th>\n",
       "      <th>spark</th>\n",
       "      <th>aws</th>\n",
       "      <th>excel</th>\n",
       "      <th>sql</th>\n",
       "      <th>...</th>\n",
       "      <th>keras</th>\n",
       "      <th>pytorch</th>\n",
       "      <th>scikit</th>\n",
       "      <th>tensor</th>\n",
       "      <th>hadoop</th>\n",
       "      <th>tableau</th>\n",
       "      <th>bi</th>\n",
       "      <th>flink</th>\n",
       "      <th>mongo</th>\n",
       "      <th>google_an</th>\n",
       "    </tr>\n",
       "  </thead>\n",
       "  <tbody>\n",
       "    <tr>\n",
       "      <th>index</th>\n",
       "      <td>1.000000</td>\n",
       "      <td>-0.140705</td>\n",
       "      <td>-0.046113</td>\n",
       "      <td>-0.027764</td>\n",
       "      <td>-0.035750</td>\n",
       "      <td>-0.108912</td>\n",
       "      <td>-0.067190</td>\n",
       "      <td>0.028649</td>\n",
       "      <td>-0.034559</td>\n",
       "      <td>-0.035343</td>\n",
       "      <td>...</td>\n",
       "      <td>-0.110127</td>\n",
       "      <td>-0.013630</td>\n",
       "      <td>-0.122056</td>\n",
       "      <td>-0.093148</td>\n",
       "      <td>0.003940</td>\n",
       "      <td>-0.039566</td>\n",
       "      <td>-0.014000</td>\n",
       "      <td>-0.005656</td>\n",
       "      <td>-0.015961</td>\n",
       "      <td>0.001105</td>\n",
       "    </tr>\n",
       "    <tr>\n",
       "      <th>Rating</th>\n",
       "      <td>-0.140705</td>\n",
       "      <td>1.000000</td>\n",
       "      <td>-0.009638</td>\n",
       "      <td>0.027332</td>\n",
       "      <td>0.012475</td>\n",
       "      <td>0.144665</td>\n",
       "      <td>0.156982</td>\n",
       "      <td>0.117049</td>\n",
       "      <td>-0.036466</td>\n",
       "      <td>0.134463</td>\n",
       "      <td>...</td>\n",
       "      <td>0.076893</td>\n",
       "      <td>0.058564</td>\n",
       "      <td>0.110033</td>\n",
       "      <td>0.069042</td>\n",
       "      <td>0.145098</td>\n",
       "      <td>0.001717</td>\n",
       "      <td>0.039784</td>\n",
       "      <td>0.048338</td>\n",
       "      <td>0.035587</td>\n",
       "      <td>-0.019351</td>\n",
       "    </tr>\n",
       "    <tr>\n",
       "      <th>Lower Salary</th>\n",
       "      <td>-0.046113</td>\n",
       "      <td>-0.009638</td>\n",
       "      <td>1.000000</td>\n",
       "      <td>0.939995</td>\n",
       "      <td>0.978679</td>\n",
       "      <td>0.326078</td>\n",
       "      <td>0.164245</td>\n",
       "      <td>0.168860</td>\n",
       "      <td>-0.075807</td>\n",
       "      <td>0.017630</td>\n",
       "      <td>...</td>\n",
       "      <td>0.099196</td>\n",
       "      <td>0.049714</td>\n",
       "      <td>0.178374</td>\n",
       "      <td>0.147471</td>\n",
       "      <td>0.093147</td>\n",
       "      <td>-0.049153</td>\n",
       "      <td>-0.026770</td>\n",
       "      <td>0.074627</td>\n",
       "      <td>0.057677</td>\n",
       "      <td>-0.118053</td>\n",
       "    </tr>\n",
       "    <tr>\n",
       "      <th>Upper Salary</th>\n",
       "      <td>-0.027764</td>\n",
       "      <td>0.027332</td>\n",
       "      <td>0.939995</td>\n",
       "      <td>1.000000</td>\n",
       "      <td>0.990032</td>\n",
       "      <td>0.300576</td>\n",
       "      <td>0.170892</td>\n",
       "      <td>0.171020</td>\n",
       "      <td>-0.068156</td>\n",
       "      <td>-0.008754</td>\n",
       "      <td>...</td>\n",
       "      <td>0.124101</td>\n",
       "      <td>0.040261</td>\n",
       "      <td>0.173760</td>\n",
       "      <td>0.164820</td>\n",
       "      <td>0.119785</td>\n",
       "      <td>-0.090469</td>\n",
       "      <td>-0.055548</td>\n",
       "      <td>0.091450</td>\n",
       "      <td>0.078266</td>\n",
       "      <td>-0.123877</td>\n",
       "    </tr>\n",
       "    <tr>\n",
       "      <th>Avg Salary(K)</th>\n",
       "      <td>-0.035750</td>\n",
       "      <td>0.012475</td>\n",
       "      <td>0.978679</td>\n",
       "      <td>0.990032</td>\n",
       "      <td>1.000000</td>\n",
       "      <td>0.315552</td>\n",
       "      <td>0.170678</td>\n",
       "      <td>0.172660</td>\n",
       "      <td>-0.072323</td>\n",
       "      <td>0.002008</td>\n",
       "      <td>...</td>\n",
       "      <td>0.115658</td>\n",
       "      <td>0.044759</td>\n",
       "      <td>0.178237</td>\n",
       "      <td>0.160098</td>\n",
       "      <td>0.110562</td>\n",
       "      <td>-0.074753</td>\n",
       "      <td>-0.044491</td>\n",
       "      <td>0.085859</td>\n",
       "      <td>0.070925</td>\n",
       "      <td>-0.123306</td>\n",
       "    </tr>\n",
       "    <tr>\n",
       "      <th>Python</th>\n",
       "      <td>-0.108912</td>\n",
       "      <td>0.144665</td>\n",
       "      <td>0.326078</td>\n",
       "      <td>0.300576</td>\n",
       "      <td>0.315552</td>\n",
       "      <td>1.000000</td>\n",
       "      <td>0.347619</td>\n",
       "      <td>0.203221</td>\n",
       "      <td>-0.021519</td>\n",
       "      <td>0.373999</td>\n",
       "      <td>...</td>\n",
       "      <td>0.190566</td>\n",
       "      <td>0.113676</td>\n",
       "      <td>0.254331</td>\n",
       "      <td>0.209430</td>\n",
       "      <td>0.235114</td>\n",
       "      <td>0.154118</td>\n",
       "      <td>0.167770</td>\n",
       "      <td>0.063615</td>\n",
       "      <td>0.080035</td>\n",
       "      <td>-0.027705</td>\n",
       "    </tr>\n",
       "    <tr>\n",
       "      <th>spark</th>\n",
       "      <td>-0.067190</td>\n",
       "      <td>0.156982</td>\n",
       "      <td>0.164245</td>\n",
       "      <td>0.170892</td>\n",
       "      <td>0.170678</td>\n",
       "      <td>0.347619</td>\n",
       "      <td>1.000000</td>\n",
       "      <td>0.298822</td>\n",
       "      <td>-0.047334</td>\n",
       "      <td>0.261304</td>\n",
       "      <td>...</td>\n",
       "      <td>0.107790</td>\n",
       "      <td>0.032138</td>\n",
       "      <td>0.271394</td>\n",
       "      <td>0.237612</td>\n",
       "      <td>0.537081</td>\n",
       "      <td>-0.018655</td>\n",
       "      <td>-0.044026</td>\n",
       "      <td>0.216880</td>\n",
       "      <td>0.232356</td>\n",
       "      <td>-0.051017</td>\n",
       "    </tr>\n",
       "    <tr>\n",
       "      <th>aws</th>\n",
       "      <td>0.028649</td>\n",
       "      <td>0.117049</td>\n",
       "      <td>0.168860</td>\n",
       "      <td>0.171020</td>\n",
       "      <td>0.172660</td>\n",
       "      <td>0.203221</td>\n",
       "      <td>0.298822</td>\n",
       "      <td>1.000000</td>\n",
       "      <td>-0.019235</td>\n",
       "      <td>0.106902</td>\n",
       "      <td>...</td>\n",
       "      <td>0.132776</td>\n",
       "      <td>0.110025</td>\n",
       "      <td>0.087712</td>\n",
       "      <td>0.116905</td>\n",
       "      <td>0.276749</td>\n",
       "      <td>-0.000834</td>\n",
       "      <td>0.032589</td>\n",
       "      <td>0.154647</td>\n",
       "      <td>0.177929</td>\n",
       "      <td>-0.077330</td>\n",
       "    </tr>\n",
       "    <tr>\n",
       "      <th>excel</th>\n",
       "      <td>-0.034559</td>\n",
       "      <td>-0.036466</td>\n",
       "      <td>-0.075807</td>\n",
       "      <td>-0.068156</td>\n",
       "      <td>-0.072323</td>\n",
       "      <td>-0.021519</td>\n",
       "      <td>-0.047334</td>\n",
       "      <td>-0.019235</td>\n",
       "      <td>1.000000</td>\n",
       "      <td>0.109548</td>\n",
       "      <td>...</td>\n",
       "      <td>-0.030136</td>\n",
       "      <td>-0.065215</td>\n",
       "      <td>-0.023238</td>\n",
       "      <td>-0.078846</td>\n",
       "      <td>0.022847</td>\n",
       "      <td>0.145915</td>\n",
       "      <td>0.068613</td>\n",
       "      <td>-0.028762</td>\n",
       "      <td>0.094860</td>\n",
       "      <td>0.112628</td>\n",
       "    </tr>\n",
       "    <tr>\n",
       "      <th>sql</th>\n",
       "      <td>-0.035343</td>\n",
       "      <td>0.134463</td>\n",
       "      <td>0.017630</td>\n",
       "      <td>-0.008754</td>\n",
       "      <td>0.002008</td>\n",
       "      <td>0.373999</td>\n",
       "      <td>0.261304</td>\n",
       "      <td>0.106902</td>\n",
       "      <td>0.109548</td>\n",
       "      <td>1.000000</td>\n",
       "      <td>...</td>\n",
       "      <td>0.015975</td>\n",
       "      <td>-0.011757</td>\n",
       "      <td>0.096994</td>\n",
       "      <td>0.037589</td>\n",
       "      <td>0.278207</td>\n",
       "      <td>0.379234</td>\n",
       "      <td>0.248244</td>\n",
       "      <td>-0.049602</td>\n",
       "      <td>0.198825</td>\n",
       "      <td>0.056085</td>\n",
       "    </tr>\n",
       "    <tr>\n",
       "      <th>sas</th>\n",
       "      <td>0.001345</td>\n",
       "      <td>0.000324</td>\n",
       "      <td>0.123419</td>\n",
       "      <td>0.084702</td>\n",
       "      <td>0.101938</td>\n",
       "      <td>0.086607</td>\n",
       "      <td>-0.055031</td>\n",
       "      <td>-0.140850</td>\n",
       "      <td>0.052017</td>\n",
       "      <td>0.200788</td>\n",
       "      <td>...</td>\n",
       "      <td>-0.063016</td>\n",
       "      <td>-0.052381</td>\n",
       "      <td>0.021811</td>\n",
       "      <td>-0.054448</td>\n",
       "      <td>-0.076515</td>\n",
       "      <td>0.152072</td>\n",
       "      <td>0.054106</td>\n",
       "      <td>-0.036521</td>\n",
       "      <td>0.102419</td>\n",
       "      <td>0.095853</td>\n",
       "    </tr>\n",
       "    <tr>\n",
       "      <th>keras</th>\n",
       "      <td>-0.110127</td>\n",
       "      <td>0.076893</td>\n",
       "      <td>0.099196</td>\n",
       "      <td>0.124101</td>\n",
       "      <td>0.115658</td>\n",
       "      <td>0.190566</td>\n",
       "      <td>0.107790</td>\n",
       "      <td>0.132776</td>\n",
       "      <td>-0.030136</td>\n",
       "      <td>0.015975</td>\n",
       "      <td>...</td>\n",
       "      <td>1.000000</td>\n",
       "      <td>0.357628</td>\n",
       "      <td>0.505696</td>\n",
       "      <td>0.544731</td>\n",
       "      <td>0.002864</td>\n",
       "      <td>-0.031054</td>\n",
       "      <td>-0.057622</td>\n",
       "      <td>-0.023572</td>\n",
       "      <td>0.049647</td>\n",
       "      <td>0.023145</td>\n",
       "    </tr>\n",
       "    <tr>\n",
       "      <th>pytorch</th>\n",
       "      <td>-0.013630</td>\n",
       "      <td>0.058564</td>\n",
       "      <td>0.049714</td>\n",
       "      <td>0.040261</td>\n",
       "      <td>0.044759</td>\n",
       "      <td>0.113676</td>\n",
       "      <td>0.032138</td>\n",
       "      <td>0.110025</td>\n",
       "      <td>-0.065215</td>\n",
       "      <td>-0.011757</td>\n",
       "      <td>...</td>\n",
       "      <td>0.357628</td>\n",
       "      <td>1.000000</td>\n",
       "      <td>0.398992</td>\n",
       "      <td>0.636887</td>\n",
       "      <td>-0.040753</td>\n",
       "      <td>-0.117569</td>\n",
       "      <td>-0.067296</td>\n",
       "      <td>-0.027530</td>\n",
       "      <td>-0.053959</td>\n",
       "      <td>-0.032663</td>\n",
       "    </tr>\n",
       "    <tr>\n",
       "      <th>scikit</th>\n",
       "      <td>-0.122056</td>\n",
       "      <td>0.110033</td>\n",
       "      <td>0.178374</td>\n",
       "      <td>0.173760</td>\n",
       "      <td>0.178237</td>\n",
       "      <td>0.254331</td>\n",
       "      <td>0.271394</td>\n",
       "      <td>0.087712</td>\n",
       "      <td>-0.023238</td>\n",
       "      <td>0.096994</td>\n",
       "      <td>...</td>\n",
       "      <td>0.505696</td>\n",
       "      <td>0.398992</td>\n",
       "      <td>1.000000</td>\n",
       "      <td>0.521607</td>\n",
       "      <td>0.138724</td>\n",
       "      <td>-0.035976</td>\n",
       "      <td>-0.001482</td>\n",
       "      <td>0.057243</td>\n",
       "      <td>0.031159</td>\n",
       "      <td>-0.000719</td>\n",
       "    </tr>\n",
       "    <tr>\n",
       "      <th>tensor</th>\n",
       "      <td>-0.093148</td>\n",
       "      <td>0.069042</td>\n",
       "      <td>0.147471</td>\n",
       "      <td>0.164820</td>\n",
       "      <td>0.160098</td>\n",
       "      <td>0.209430</td>\n",
       "      <td>0.237612</td>\n",
       "      <td>0.116905</td>\n",
       "      <td>-0.078846</td>\n",
       "      <td>0.037589</td>\n",
       "      <td>...</td>\n",
       "      <td>0.544731</td>\n",
       "      <td>0.636887</td>\n",
       "      <td>0.521607</td>\n",
       "      <td>1.000000</td>\n",
       "      <td>-0.012599</td>\n",
       "      <td>-0.129449</td>\n",
       "      <td>-0.093661</td>\n",
       "      <td>0.119629</td>\n",
       "      <td>-0.012347</td>\n",
       "      <td>-0.011996</td>\n",
       "    </tr>\n",
       "    <tr>\n",
       "      <th>hadoop</th>\n",
       "      <td>0.003940</td>\n",
       "      <td>0.145098</td>\n",
       "      <td>0.093147</td>\n",
       "      <td>0.119785</td>\n",
       "      <td>0.110562</td>\n",
       "      <td>0.235114</td>\n",
       "      <td>0.537081</td>\n",
       "      <td>0.276749</td>\n",
       "      <td>0.022847</td>\n",
       "      <td>0.278207</td>\n",
       "      <td>...</td>\n",
       "      <td>0.002864</td>\n",
       "      <td>-0.040753</td>\n",
       "      <td>0.138724</td>\n",
       "      <td>-0.012599</td>\n",
       "      <td>1.000000</td>\n",
       "      <td>0.092814</td>\n",
       "      <td>0.022448</td>\n",
       "      <td>0.135617</td>\n",
       "      <td>0.196110</td>\n",
       "      <td>-0.035567</td>\n",
       "    </tr>\n",
       "    <tr>\n",
       "      <th>tableau</th>\n",
       "      <td>-0.039566</td>\n",
       "      <td>0.001717</td>\n",
       "      <td>-0.049153</td>\n",
       "      <td>-0.090469</td>\n",
       "      <td>-0.074753</td>\n",
       "      <td>0.154118</td>\n",
       "      <td>-0.018655</td>\n",
       "      <td>-0.000834</td>\n",
       "      <td>0.145915</td>\n",
       "      <td>0.379234</td>\n",
       "      <td>...</td>\n",
       "      <td>-0.031054</td>\n",
       "      <td>-0.117569</td>\n",
       "      <td>-0.035976</td>\n",
       "      <td>-0.129449</td>\n",
       "      <td>0.092814</td>\n",
       "      <td>1.000000</td>\n",
       "      <td>0.457481</td>\n",
       "      <td>-0.058342</td>\n",
       "      <td>0.149059</td>\n",
       "      <td>0.079510</td>\n",
       "    </tr>\n",
       "    <tr>\n",
       "      <th>bi</th>\n",
       "      <td>-0.014000</td>\n",
       "      <td>0.039784</td>\n",
       "      <td>-0.026770</td>\n",
       "      <td>-0.055548</td>\n",
       "      <td>-0.044491</td>\n",
       "      <td>0.167770</td>\n",
       "      <td>-0.044026</td>\n",
       "      <td>0.032589</td>\n",
       "      <td>0.068613</td>\n",
       "      <td>0.248244</td>\n",
       "      <td>...</td>\n",
       "      <td>-0.057622</td>\n",
       "      <td>-0.067296</td>\n",
       "      <td>-0.001482</td>\n",
       "      <td>-0.093661</td>\n",
       "      <td>0.022448</td>\n",
       "      <td>0.457481</td>\n",
       "      <td>1.000000</td>\n",
       "      <td>-0.033395</td>\n",
       "      <td>0.004865</td>\n",
       "      <td>0.035376</td>\n",
       "    </tr>\n",
       "    <tr>\n",
       "      <th>flink</th>\n",
       "      <td>-0.005656</td>\n",
       "      <td>0.048338</td>\n",
       "      <td>0.074627</td>\n",
       "      <td>0.091450</td>\n",
       "      <td>0.085859</td>\n",
       "      <td>0.063615</td>\n",
       "      <td>0.216880</td>\n",
       "      <td>0.154647</td>\n",
       "      <td>-0.028762</td>\n",
       "      <td>-0.049602</td>\n",
       "      <td>...</td>\n",
       "      <td>-0.023572</td>\n",
       "      <td>-0.027530</td>\n",
       "      <td>0.057243</td>\n",
       "      <td>0.119629</td>\n",
       "      <td>0.135617</td>\n",
       "      <td>-0.058342</td>\n",
       "      <td>-0.033395</td>\n",
       "      <td>1.000000</td>\n",
       "      <td>0.026921</td>\n",
       "      <td>-0.016208</td>\n",
       "    </tr>\n",
       "    <tr>\n",
       "      <th>mongo</th>\n",
       "      <td>-0.015961</td>\n",
       "      <td>0.035587</td>\n",
       "      <td>0.057677</td>\n",
       "      <td>0.078266</td>\n",
       "      <td>0.070925</td>\n",
       "      <td>0.080035</td>\n",
       "      <td>0.232356</td>\n",
       "      <td>0.177929</td>\n",
       "      <td>0.094860</td>\n",
       "      <td>0.198825</td>\n",
       "      <td>...</td>\n",
       "      <td>0.049647</td>\n",
       "      <td>-0.053959</td>\n",
       "      <td>0.031159</td>\n",
       "      <td>-0.012347</td>\n",
       "      <td>0.196110</td>\n",
       "      <td>0.149059</td>\n",
       "      <td>0.004865</td>\n",
       "      <td>0.026921</td>\n",
       "      <td>1.000000</td>\n",
       "      <td>0.013738</td>\n",
       "    </tr>\n",
       "    <tr>\n",
       "      <th>google_an</th>\n",
       "      <td>0.001105</td>\n",
       "      <td>-0.019351</td>\n",
       "      <td>-0.118053</td>\n",
       "      <td>-0.123877</td>\n",
       "      <td>-0.123306</td>\n",
       "      <td>-0.027705</td>\n",
       "      <td>-0.051017</td>\n",
       "      <td>-0.077330</td>\n",
       "      <td>0.112628</td>\n",
       "      <td>0.056085</td>\n",
       "      <td>...</td>\n",
       "      <td>0.023145</td>\n",
       "      <td>-0.032663</td>\n",
       "      <td>-0.000719</td>\n",
       "      <td>-0.011996</td>\n",
       "      <td>-0.035567</td>\n",
       "      <td>0.079510</td>\n",
       "      <td>0.035376</td>\n",
       "      <td>-0.016208</td>\n",
       "      <td>0.013738</td>\n",
       "      <td>1.000000</td>\n",
       "    </tr>\n",
       "  </tbody>\n",
       "</table>\n",
       "<p>21 rows × 21 columns</p>\n",
       "</div>"
      ],
      "text/plain": [
       "                  index    Rating  Lower Salary  Upper Salary  Avg Salary(K)  \\\n",
       "index          1.000000 -0.140705     -0.046113     -0.027764      -0.035750   \n",
       "Rating        -0.140705  1.000000     -0.009638      0.027332       0.012475   \n",
       "Lower Salary  -0.046113 -0.009638      1.000000      0.939995       0.978679   \n",
       "Upper Salary  -0.027764  0.027332      0.939995      1.000000       0.990032   \n",
       "Avg Salary(K) -0.035750  0.012475      0.978679      0.990032       1.000000   \n",
       "Python        -0.108912  0.144665      0.326078      0.300576       0.315552   \n",
       "spark         -0.067190  0.156982      0.164245      0.170892       0.170678   \n",
       "aws            0.028649  0.117049      0.168860      0.171020       0.172660   \n",
       "excel         -0.034559 -0.036466     -0.075807     -0.068156      -0.072323   \n",
       "sql           -0.035343  0.134463      0.017630     -0.008754       0.002008   \n",
       "sas            0.001345  0.000324      0.123419      0.084702       0.101938   \n",
       "keras         -0.110127  0.076893      0.099196      0.124101       0.115658   \n",
       "pytorch       -0.013630  0.058564      0.049714      0.040261       0.044759   \n",
       "scikit        -0.122056  0.110033      0.178374      0.173760       0.178237   \n",
       "tensor        -0.093148  0.069042      0.147471      0.164820       0.160098   \n",
       "hadoop         0.003940  0.145098      0.093147      0.119785       0.110562   \n",
       "tableau       -0.039566  0.001717     -0.049153     -0.090469      -0.074753   \n",
       "bi            -0.014000  0.039784     -0.026770     -0.055548      -0.044491   \n",
       "flink         -0.005656  0.048338      0.074627      0.091450       0.085859   \n",
       "mongo         -0.015961  0.035587      0.057677      0.078266       0.070925   \n",
       "google_an      0.001105 -0.019351     -0.118053     -0.123877      -0.123306   \n",
       "\n",
       "                 Python     spark       aws     excel       sql  ...  \\\n",
       "index         -0.108912 -0.067190  0.028649 -0.034559 -0.035343  ...   \n",
       "Rating         0.144665  0.156982  0.117049 -0.036466  0.134463  ...   \n",
       "Lower Salary   0.326078  0.164245  0.168860 -0.075807  0.017630  ...   \n",
       "Upper Salary   0.300576  0.170892  0.171020 -0.068156 -0.008754  ...   \n",
       "Avg Salary(K)  0.315552  0.170678  0.172660 -0.072323  0.002008  ...   \n",
       "Python         1.000000  0.347619  0.203221 -0.021519  0.373999  ...   \n",
       "spark          0.347619  1.000000  0.298822 -0.047334  0.261304  ...   \n",
       "aws            0.203221  0.298822  1.000000 -0.019235  0.106902  ...   \n",
       "excel         -0.021519 -0.047334 -0.019235  1.000000  0.109548  ...   \n",
       "sql            0.373999  0.261304  0.106902  0.109548  1.000000  ...   \n",
       "sas            0.086607 -0.055031 -0.140850  0.052017  0.200788  ...   \n",
       "keras          0.190566  0.107790  0.132776 -0.030136  0.015975  ...   \n",
       "pytorch        0.113676  0.032138  0.110025 -0.065215 -0.011757  ...   \n",
       "scikit         0.254331  0.271394  0.087712 -0.023238  0.096994  ...   \n",
       "tensor         0.209430  0.237612  0.116905 -0.078846  0.037589  ...   \n",
       "hadoop         0.235114  0.537081  0.276749  0.022847  0.278207  ...   \n",
       "tableau        0.154118 -0.018655 -0.000834  0.145915  0.379234  ...   \n",
       "bi             0.167770 -0.044026  0.032589  0.068613  0.248244  ...   \n",
       "flink          0.063615  0.216880  0.154647 -0.028762 -0.049602  ...   \n",
       "mongo          0.080035  0.232356  0.177929  0.094860  0.198825  ...   \n",
       "google_an     -0.027705 -0.051017 -0.077330  0.112628  0.056085  ...   \n",
       "\n",
       "                  keras   pytorch    scikit    tensor    hadoop   tableau  \\\n",
       "index         -0.110127 -0.013630 -0.122056 -0.093148  0.003940 -0.039566   \n",
       "Rating         0.076893  0.058564  0.110033  0.069042  0.145098  0.001717   \n",
       "Lower Salary   0.099196  0.049714  0.178374  0.147471  0.093147 -0.049153   \n",
       "Upper Salary   0.124101  0.040261  0.173760  0.164820  0.119785 -0.090469   \n",
       "Avg Salary(K)  0.115658  0.044759  0.178237  0.160098  0.110562 -0.074753   \n",
       "Python         0.190566  0.113676  0.254331  0.209430  0.235114  0.154118   \n",
       "spark          0.107790  0.032138  0.271394  0.237612  0.537081 -0.018655   \n",
       "aws            0.132776  0.110025  0.087712  0.116905  0.276749 -0.000834   \n",
       "excel         -0.030136 -0.065215 -0.023238 -0.078846  0.022847  0.145915   \n",
       "sql            0.015975 -0.011757  0.096994  0.037589  0.278207  0.379234   \n",
       "sas           -0.063016 -0.052381  0.021811 -0.054448 -0.076515  0.152072   \n",
       "keras          1.000000  0.357628  0.505696  0.544731  0.002864 -0.031054   \n",
       "pytorch        0.357628  1.000000  0.398992  0.636887 -0.040753 -0.117569   \n",
       "scikit         0.505696  0.398992  1.000000  0.521607  0.138724 -0.035976   \n",
       "tensor         0.544731  0.636887  0.521607  1.000000 -0.012599 -0.129449   \n",
       "hadoop         0.002864 -0.040753  0.138724 -0.012599  1.000000  0.092814   \n",
       "tableau       -0.031054 -0.117569 -0.035976 -0.129449  0.092814  1.000000   \n",
       "bi            -0.057622 -0.067296 -0.001482 -0.093661  0.022448  0.457481   \n",
       "flink         -0.023572 -0.027530  0.057243  0.119629  0.135617 -0.058342   \n",
       "mongo          0.049647 -0.053959  0.031159 -0.012347  0.196110  0.149059   \n",
       "google_an      0.023145 -0.032663 -0.000719 -0.011996 -0.035567  0.079510   \n",
       "\n",
       "                     bi     flink     mongo  google_an  \n",
       "index         -0.014000 -0.005656 -0.015961   0.001105  \n",
       "Rating         0.039784  0.048338  0.035587  -0.019351  \n",
       "Lower Salary  -0.026770  0.074627  0.057677  -0.118053  \n",
       "Upper Salary  -0.055548  0.091450  0.078266  -0.123877  \n",
       "Avg Salary(K) -0.044491  0.085859  0.070925  -0.123306  \n",
       "Python         0.167770  0.063615  0.080035  -0.027705  \n",
       "spark         -0.044026  0.216880  0.232356  -0.051017  \n",
       "aws            0.032589  0.154647  0.177929  -0.077330  \n",
       "excel          0.068613 -0.028762  0.094860   0.112628  \n",
       "sql            0.248244 -0.049602  0.198825   0.056085  \n",
       "sas            0.054106 -0.036521  0.102419   0.095853  \n",
       "keras         -0.057622 -0.023572  0.049647   0.023145  \n",
       "pytorch       -0.067296 -0.027530 -0.053959  -0.032663  \n",
       "scikit        -0.001482  0.057243  0.031159  -0.000719  \n",
       "tensor        -0.093661  0.119629 -0.012347  -0.011996  \n",
       "hadoop         0.022448  0.135617  0.196110  -0.035567  \n",
       "tableau        0.457481 -0.058342  0.149059   0.079510  \n",
       "bi             1.000000 -0.033395  0.004865   0.035376  \n",
       "flink         -0.033395  1.000000  0.026921  -0.016208  \n",
       "mongo          0.004865  0.026921  1.000000   0.013738  \n",
       "google_an      0.035376 -0.016208  0.013738   1.000000  \n",
       "\n",
       "[21 rows x 21 columns]"
      ]
     },
     "execution_count": 35,
     "metadata": {},
     "output_type": "execute_result"
    }
   ],
   "source": [
    "Salaries.corr(method='pearson')"
   ]
  },
  {
   "cell_type": "markdown",
   "id": "9979f8e3",
   "metadata": {},
   "source": [
    "#### Very little Linear correlations between the variables. There was a strong positive correlation with lower and upper salary vs. avg salary and a low postive linear correlation between Python vs. upper, lower, and avg salary; and also very low positive correlation with some of the other skills."
   ]
  },
  {
   "cell_type": "code",
   "execution_count": 36,
   "id": "7225ec16",
   "metadata": {},
   "outputs": [
    {
     "data": {
      "text/plain": [
       "0.012475369441822178"
      ]
     },
     "execution_count": 36,
     "metadata": {},
     "output_type": "execute_result"
    }
   ],
   "source": [
    "Salaries['Rating'].corr(Salaries['Avg Salary(K)'])"
   ]
  },
  {
   "cell_type": "code",
   "execution_count": 37,
   "id": "02cfc1b3",
   "metadata": {},
   "outputs": [
    {
     "data": {
      "text/plain": [
       "0.027332039374249377"
      ]
     },
     "execution_count": 37,
     "metadata": {},
     "output_type": "execute_result"
    }
   ],
   "source": [
    "Salaries['Rating'].corr(Salaries['Upper Salary'])"
   ]
  },
  {
   "cell_type": "markdown",
   "id": "9876f413",
   "metadata": {},
   "source": [
    "#### There are significant differences between rating and average salary and rating and upper salary. \n"
   ]
  },
  {
   "cell_type": "code",
   "execution_count": 38,
   "id": "ee90b856",
   "metadata": {},
   "outputs": [
    {
     "data": {
      "text/plain": [
       "<AxesSubplot:>"
      ]
     },
     "execution_count": 38,
     "metadata": {},
     "output_type": "execute_result"
    },
    {
     "data": {
      "image/png": "[encoded data removed]",
      "text/plain": [
       "<Figure size 432x288 with 2 Axes>"
      ]
     },
     "metadata": {
      "needs_background": "light"
     },
     "output_type": "display_data"
    }
   ],
   "source": [
    "sns.heatmap(Salaries.corr())"
   ]
  },
  {
   "cell_type": "markdown",
   "id": "1df072a9",
   "metadata": {},
   "source": [
    "#### This heat map shows the correlation of the data set.  Most of the relationship is between the salaries and some between keras, pytorch, scikit, and tensor."
   ]
  },
  {
   "cell_type": "code",
   "execution_count": 39,
   "id": "50c2ff49",
   "metadata": {},
   "outputs": [
    {
     "data": {
      "text/html": [
       "<div>\n",
       "<style scoped>\n",
       "    .dataframe tbody tr th:only-of-type {\n",
       "        vertical-align: middle;\n",
       "    }\n",
       "\n",
       "    .dataframe tbody tr th {\n",
       "        vertical-align: top;\n",
       "    }\n",
       "\n",
       "    .dataframe thead th {\n",
       "        text-align: right;\n",
       "    }\n",
       "</style>\n",
       "<table border=\"1\" class=\"dataframe\">\n",
       "  <thead>\n",
       "    <tr style=\"text-align: right;\">\n",
       "      <th></th>\n",
       "      <th>index</th>\n",
       "      <th>Rating</th>\n",
       "      <th>Lower Salary</th>\n",
       "      <th>Upper Salary</th>\n",
       "      <th>Avg Salary(K)</th>\n",
       "      <th>Python</th>\n",
       "      <th>spark</th>\n",
       "      <th>aws</th>\n",
       "      <th>excel</th>\n",
       "      <th>sql</th>\n",
       "      <th>...</th>\n",
       "      <th>keras</th>\n",
       "      <th>pytorch</th>\n",
       "      <th>scikit</th>\n",
       "      <th>tensor</th>\n",
       "      <th>hadoop</th>\n",
       "      <th>tableau</th>\n",
       "      <th>bi</th>\n",
       "      <th>flink</th>\n",
       "      <th>mongo</th>\n",
       "      <th>google_an</th>\n",
       "    </tr>\n",
       "  </thead>\n",
       "  <tbody>\n",
       "    <tr>\n",
       "      <th>index</th>\n",
       "      <td>1.000000</td>\n",
       "      <td>-0.108849</td>\n",
       "      <td>-0.039434</td>\n",
       "      <td>-0.024457</td>\n",
       "      <td>-0.030434</td>\n",
       "      <td>-0.089120</td>\n",
       "      <td>-0.054513</td>\n",
       "      <td>0.023301</td>\n",
       "      <td>-0.028314</td>\n",
       "      <td>-0.028488</td>\n",
       "      <td>...</td>\n",
       "      <td>-0.089701</td>\n",
       "      <td>-0.011000</td>\n",
       "      <td>-0.099187</td>\n",
       "      <td>-0.075513</td>\n",
       "      <td>0.003844</td>\n",
       "      <td>-0.032111</td>\n",
       "      <td>-0.011638</td>\n",
       "      <td>-0.004191</td>\n",
       "      <td>-0.013568</td>\n",
       "      <td>0.000793</td>\n",
       "    </tr>\n",
       "    <tr>\n",
       "      <th>Rating</th>\n",
       "      <td>-0.108849</td>\n",
       "      <td>1.000000</td>\n",
       "      <td>0.089490</td>\n",
       "      <td>0.067267</td>\n",
       "      <td>0.075517</td>\n",
       "      <td>0.142422</td>\n",
       "      <td>0.132317</td>\n",
       "      <td>0.130227</td>\n",
       "      <td>-0.029241</td>\n",
       "      <td>0.099030</td>\n",
       "      <td>...</td>\n",
       "      <td>0.065287</td>\n",
       "      <td>0.037254</td>\n",
       "      <td>0.100541</td>\n",
       "      <td>0.073860</td>\n",
       "      <td>0.125784</td>\n",
       "      <td>0.013975</td>\n",
       "      <td>0.022920</td>\n",
       "      <td>0.057153</td>\n",
       "      <td>0.008015</td>\n",
       "      <td>-0.019165</td>\n",
       "    </tr>\n",
       "    <tr>\n",
       "      <th>Lower Salary</th>\n",
       "      <td>-0.039434</td>\n",
       "      <td>0.089490</td>\n",
       "      <td>1.000000</td>\n",
       "      <td>0.827712</td>\n",
       "      <td>0.898649</td>\n",
       "      <td>0.293786</td>\n",
       "      <td>0.165254</td>\n",
       "      <td>0.144413</td>\n",
       "      <td>-0.069040</td>\n",
       "      <td>0.039622</td>\n",
       "      <td>...</td>\n",
       "      <td>0.112568</td>\n",
       "      <td>0.074483</td>\n",
       "      <td>0.164034</td>\n",
       "      <td>0.162828</td>\n",
       "      <td>0.113937</td>\n",
       "      <td>-0.037193</td>\n",
       "      <td>-0.012876</td>\n",
       "      <td>0.072209</td>\n",
       "      <td>0.077145</td>\n",
       "      <td>-0.110471</td>\n",
       "    </tr>\n",
       "    <tr>\n",
       "      <th>Upper Salary</th>\n",
       "      <td>-0.024457</td>\n",
       "      <td>0.067267</td>\n",
       "      <td>0.827712</td>\n",
       "      <td>1.000000</td>\n",
       "      <td>0.933083</td>\n",
       "      <td>0.250991</td>\n",
       "      <td>0.160866</td>\n",
       "      <td>0.151720</td>\n",
       "      <td>-0.066384</td>\n",
       "      <td>0.002768</td>\n",
       "      <td>...</td>\n",
       "      <td>0.118796</td>\n",
       "      <td>0.054578</td>\n",
       "      <td>0.148446</td>\n",
       "      <td>0.160067</td>\n",
       "      <td>0.114865</td>\n",
       "      <td>-0.071074</td>\n",
       "      <td>-0.042932</td>\n",
       "      <td>0.083781</td>\n",
       "      <td>0.079966</td>\n",
       "      <td>-0.109130</td>\n",
       "    </tr>\n",
       "    <tr>\n",
       "      <th>Avg Salary(K)</th>\n",
       "      <td>-0.030434</td>\n",
       "      <td>0.075517</td>\n",
       "      <td>0.898649</td>\n",
       "      <td>0.933083</td>\n",
       "      <td>1.000000</td>\n",
       "      <td>0.268659</td>\n",
       "      <td>0.163567</td>\n",
       "      <td>0.151242</td>\n",
       "      <td>-0.065440</td>\n",
       "      <td>0.016644</td>\n",
       "      <td>...</td>\n",
       "      <td>0.119641</td>\n",
       "      <td>0.062310</td>\n",
       "      <td>0.157615</td>\n",
       "      <td>0.163292</td>\n",
       "      <td>0.116612</td>\n",
       "      <td>-0.057726</td>\n",
       "      <td>-0.031320</td>\n",
       "      <td>0.078724</td>\n",
       "      <td>0.079381</td>\n",
       "      <td>-0.109831</td>\n",
       "    </tr>\n",
       "    <tr>\n",
       "      <th>Python</th>\n",
       "      <td>-0.089120</td>\n",
       "      <td>0.142422</td>\n",
       "      <td>0.293786</td>\n",
       "      <td>0.250991</td>\n",
       "      <td>0.268659</td>\n",
       "      <td>1.000000</td>\n",
       "      <td>0.347619</td>\n",
       "      <td>0.203221</td>\n",
       "      <td>-0.021519</td>\n",
       "      <td>0.373999</td>\n",
       "      <td>...</td>\n",
       "      <td>0.190566</td>\n",
       "      <td>0.113676</td>\n",
       "      <td>0.254331</td>\n",
       "      <td>0.209430</td>\n",
       "      <td>0.235114</td>\n",
       "      <td>0.154118</td>\n",
       "      <td>0.167770</td>\n",
       "      <td>0.063615</td>\n",
       "      <td>0.080035</td>\n",
       "      <td>-0.027705</td>\n",
       "    </tr>\n",
       "    <tr>\n",
       "      <th>spark</th>\n",
       "      <td>-0.054513</td>\n",
       "      <td>0.132317</td>\n",
       "      <td>0.165254</td>\n",
       "      <td>0.160866</td>\n",
       "      <td>0.163567</td>\n",
       "      <td>0.347619</td>\n",
       "      <td>1.000000</td>\n",
       "      <td>0.298822</td>\n",
       "      <td>-0.047334</td>\n",
       "      <td>0.261304</td>\n",
       "      <td>...</td>\n",
       "      <td>0.107790</td>\n",
       "      <td>0.032138</td>\n",
       "      <td>0.271394</td>\n",
       "      <td>0.237612</td>\n",
       "      <td>0.537081</td>\n",
       "      <td>-0.018655</td>\n",
       "      <td>-0.044026</td>\n",
       "      <td>0.216880</td>\n",
       "      <td>0.232356</td>\n",
       "      <td>-0.051017</td>\n",
       "    </tr>\n",
       "    <tr>\n",
       "      <th>aws</th>\n",
       "      <td>0.023301</td>\n",
       "      <td>0.130227</td>\n",
       "      <td>0.144413</td>\n",
       "      <td>0.151720</td>\n",
       "      <td>0.151242</td>\n",
       "      <td>0.203221</td>\n",
       "      <td>0.298822</td>\n",
       "      <td>1.000000</td>\n",
       "      <td>-0.019235</td>\n",
       "      <td>0.106902</td>\n",
       "      <td>...</td>\n",
       "      <td>0.132776</td>\n",
       "      <td>0.110025</td>\n",
       "      <td>0.087712</td>\n",
       "      <td>0.116905</td>\n",
       "      <td>0.276749</td>\n",
       "      <td>-0.000834</td>\n",
       "      <td>0.032589</td>\n",
       "      <td>0.154647</td>\n",
       "      <td>0.177929</td>\n",
       "      <td>-0.077330</td>\n",
       "    </tr>\n",
       "    <tr>\n",
       "      <th>excel</th>\n",
       "      <td>-0.028314</td>\n",
       "      <td>-0.029241</td>\n",
       "      <td>-0.069040</td>\n",
       "      <td>-0.066384</td>\n",
       "      <td>-0.065440</td>\n",
       "      <td>-0.021519</td>\n",
       "      <td>-0.047334</td>\n",
       "      <td>-0.019235</td>\n",
       "      <td>1.000000</td>\n",
       "      <td>0.109548</td>\n",
       "      <td>...</td>\n",
       "      <td>-0.030136</td>\n",
       "      <td>-0.065215</td>\n",
       "      <td>-0.023238</td>\n",
       "      <td>-0.078846</td>\n",
       "      <td>0.022847</td>\n",
       "      <td>0.145915</td>\n",
       "      <td>0.068613</td>\n",
       "      <td>-0.028762</td>\n",
       "      <td>0.094860</td>\n",
       "      <td>0.112628</td>\n",
       "    </tr>\n",
       "    <tr>\n",
       "      <th>sql</th>\n",
       "      <td>-0.028488</td>\n",
       "      <td>0.099030</td>\n",
       "      <td>0.039622</td>\n",
       "      <td>0.002768</td>\n",
       "      <td>0.016644</td>\n",
       "      <td>0.373999</td>\n",
       "      <td>0.261304</td>\n",
       "      <td>0.106902</td>\n",
       "      <td>0.109548</td>\n",
       "      <td>1.000000</td>\n",
       "      <td>...</td>\n",
       "      <td>0.015975</td>\n",
       "      <td>-0.011757</td>\n",
       "      <td>0.096994</td>\n",
       "      <td>0.037589</td>\n",
       "      <td>0.278207</td>\n",
       "      <td>0.379234</td>\n",
       "      <td>0.248244</td>\n",
       "      <td>-0.049602</td>\n",
       "      <td>0.198825</td>\n",
       "      <td>0.056085</td>\n",
       "    </tr>\n",
       "    <tr>\n",
       "      <th>sas</th>\n",
       "      <td>0.000397</td>\n",
       "      <td>-0.042090</td>\n",
       "      <td>0.074079</td>\n",
       "      <td>0.038596</td>\n",
       "      <td>0.053381</td>\n",
       "      <td>0.086607</td>\n",
       "      <td>-0.055031</td>\n",
       "      <td>-0.140850</td>\n",
       "      <td>0.052017</td>\n",
       "      <td>0.200788</td>\n",
       "      <td>...</td>\n",
       "      <td>-0.063016</td>\n",
       "      <td>-0.052381</td>\n",
       "      <td>0.021811</td>\n",
       "      <td>-0.054448</td>\n",
       "      <td>-0.076515</td>\n",
       "      <td>0.152072</td>\n",
       "      <td>0.054106</td>\n",
       "      <td>-0.036521</td>\n",
       "      <td>0.102419</td>\n",
       "      <td>0.095853</td>\n",
       "    </tr>\n",
       "    <tr>\n",
       "      <th>keras</th>\n",
       "      <td>-0.089701</td>\n",
       "      <td>0.065287</td>\n",
       "      <td>0.112568</td>\n",
       "      <td>0.118796</td>\n",
       "      <td>0.119641</td>\n",
       "      <td>0.190566</td>\n",
       "      <td>0.107790</td>\n",
       "      <td>0.132776</td>\n",
       "      <td>-0.030136</td>\n",
       "      <td>0.015975</td>\n",
       "      <td>...</td>\n",
       "      <td>1.000000</td>\n",
       "      <td>0.357628</td>\n",
       "      <td>0.505696</td>\n",
       "      <td>0.544731</td>\n",
       "      <td>0.002864</td>\n",
       "      <td>-0.031054</td>\n",
       "      <td>-0.057622</td>\n",
       "      <td>-0.023572</td>\n",
       "      <td>0.049647</td>\n",
       "      <td>0.023145</td>\n",
       "    </tr>\n",
       "    <tr>\n",
       "      <th>pytorch</th>\n",
       "      <td>-0.011000</td>\n",
       "      <td>0.037254</td>\n",
       "      <td>0.074483</td>\n",
       "      <td>0.054578</td>\n",
       "      <td>0.062310</td>\n",
       "      <td>0.113676</td>\n",
       "      <td>0.032138</td>\n",
       "      <td>0.110025</td>\n",
       "      <td>-0.065215</td>\n",
       "      <td>-0.011757</td>\n",
       "      <td>...</td>\n",
       "      <td>0.357628</td>\n",
       "      <td>1.000000</td>\n",
       "      <td>0.398992</td>\n",
       "      <td>0.636887</td>\n",
       "      <td>-0.040753</td>\n",
       "      <td>-0.117569</td>\n",
       "      <td>-0.067296</td>\n",
       "      <td>-0.027530</td>\n",
       "      <td>-0.053959</td>\n",
       "      <td>-0.032663</td>\n",
       "    </tr>\n",
       "    <tr>\n",
       "      <th>scikit</th>\n",
       "      <td>-0.099187</td>\n",
       "      <td>0.100541</td>\n",
       "      <td>0.164034</td>\n",
       "      <td>0.148446</td>\n",
       "      <td>0.157615</td>\n",
       "      <td>0.254331</td>\n",
       "      <td>0.271394</td>\n",
       "      <td>0.087712</td>\n",
       "      <td>-0.023238</td>\n",
       "      <td>0.096994</td>\n",
       "      <td>...</td>\n",
       "      <td>0.505696</td>\n",
       "      <td>0.398992</td>\n",
       "      <td>1.000000</td>\n",
       "      <td>0.521607</td>\n",
       "      <td>0.138724</td>\n",
       "      <td>-0.035976</td>\n",
       "      <td>-0.001482</td>\n",
       "      <td>0.057243</td>\n",
       "      <td>0.031159</td>\n",
       "      <td>-0.000719</td>\n",
       "    </tr>\n",
       "    <tr>\n",
       "      <th>tensor</th>\n",
       "      <td>-0.075513</td>\n",
       "      <td>0.073860</td>\n",
       "      <td>0.162828</td>\n",
       "      <td>0.160067</td>\n",
       "      <td>0.163292</td>\n",
       "      <td>0.209430</td>\n",
       "      <td>0.237612</td>\n",
       "      <td>0.116905</td>\n",
       "      <td>-0.078846</td>\n",
       "      <td>0.037589</td>\n",
       "      <td>...</td>\n",
       "      <td>0.544731</td>\n",
       "      <td>0.636887</td>\n",
       "      <td>0.521607</td>\n",
       "      <td>1.000000</td>\n",
       "      <td>-0.012599</td>\n",
       "      <td>-0.129449</td>\n",
       "      <td>-0.093661</td>\n",
       "      <td>0.119629</td>\n",
       "      <td>-0.012347</td>\n",
       "      <td>-0.011996</td>\n",
       "    </tr>\n",
       "    <tr>\n",
       "      <th>hadoop</th>\n",
       "      <td>0.003844</td>\n",
       "      <td>0.125784</td>\n",
       "      <td>0.113937</td>\n",
       "      <td>0.114865</td>\n",
       "      <td>0.116612</td>\n",
       "      <td>0.235114</td>\n",
       "      <td>0.537081</td>\n",
       "      <td>0.276749</td>\n",
       "      <td>0.022847</td>\n",
       "      <td>0.278207</td>\n",
       "      <td>...</td>\n",
       "      <td>0.002864</td>\n",
       "      <td>-0.040753</td>\n",
       "      <td>0.138724</td>\n",
       "      <td>-0.012599</td>\n",
       "      <td>1.000000</td>\n",
       "      <td>0.092814</td>\n",
       "      <td>0.022448</td>\n",
       "      <td>0.135617</td>\n",
       "      <td>0.196110</td>\n",
       "      <td>-0.035567</td>\n",
       "    </tr>\n",
       "    <tr>\n",
       "      <th>tableau</th>\n",
       "      <td>-0.032111</td>\n",
       "      <td>0.013975</td>\n",
       "      <td>-0.037193</td>\n",
       "      <td>-0.071074</td>\n",
       "      <td>-0.057726</td>\n",
       "      <td>0.154118</td>\n",
       "      <td>-0.018655</td>\n",
       "      <td>-0.000834</td>\n",
       "      <td>0.145915</td>\n",
       "      <td>0.379234</td>\n",
       "      <td>...</td>\n",
       "      <td>-0.031054</td>\n",
       "      <td>-0.117569</td>\n",
       "      <td>-0.035976</td>\n",
       "      <td>-0.129449</td>\n",
       "      <td>0.092814</td>\n",
       "      <td>1.000000</td>\n",
       "      <td>0.457481</td>\n",
       "      <td>-0.058342</td>\n",
       "      <td>0.149059</td>\n",
       "      <td>0.079510</td>\n",
       "    </tr>\n",
       "    <tr>\n",
       "      <th>bi</th>\n",
       "      <td>-0.011638</td>\n",
       "      <td>0.022920</td>\n",
       "      <td>-0.012876</td>\n",
       "      <td>-0.042932</td>\n",
       "      <td>-0.031320</td>\n",
       "      <td>0.167770</td>\n",
       "      <td>-0.044026</td>\n",
       "      <td>0.032589</td>\n",
       "      <td>0.068613</td>\n",
       "      <td>0.248244</td>\n",
       "      <td>...</td>\n",
       "      <td>-0.057622</td>\n",
       "      <td>-0.067296</td>\n",
       "      <td>-0.001482</td>\n",
       "      <td>-0.093661</td>\n",
       "      <td>0.022448</td>\n",
       "      <td>0.457481</td>\n",
       "      <td>1.000000</td>\n",
       "      <td>-0.033395</td>\n",
       "      <td>0.004865</td>\n",
       "      <td>0.035376</td>\n",
       "    </tr>\n",
       "    <tr>\n",
       "      <th>flink</th>\n",
       "      <td>-0.004191</td>\n",
       "      <td>0.057153</td>\n",
       "      <td>0.072209</td>\n",
       "      <td>0.083781</td>\n",
       "      <td>0.078724</td>\n",
       "      <td>0.063615</td>\n",
       "      <td>0.216880</td>\n",
       "      <td>0.154647</td>\n",
       "      <td>-0.028762</td>\n",
       "      <td>-0.049602</td>\n",
       "      <td>...</td>\n",
       "      <td>-0.023572</td>\n",
       "      <td>-0.027530</td>\n",
       "      <td>0.057243</td>\n",
       "      <td>0.119629</td>\n",
       "      <td>0.135617</td>\n",
       "      <td>-0.058342</td>\n",
       "      <td>-0.033395</td>\n",
       "      <td>1.000000</td>\n",
       "      <td>0.026921</td>\n",
       "      <td>-0.016208</td>\n",
       "    </tr>\n",
       "    <tr>\n",
       "      <th>mongo</th>\n",
       "      <td>-0.013568</td>\n",
       "      <td>0.008015</td>\n",
       "      <td>0.077145</td>\n",
       "      <td>0.079966</td>\n",
       "      <td>0.079381</td>\n",
       "      <td>0.080035</td>\n",
       "      <td>0.232356</td>\n",
       "      <td>0.177929</td>\n",
       "      <td>0.094860</td>\n",
       "      <td>0.198825</td>\n",
       "      <td>...</td>\n",
       "      <td>0.049647</td>\n",
       "      <td>-0.053959</td>\n",
       "      <td>0.031159</td>\n",
       "      <td>-0.012347</td>\n",
       "      <td>0.196110</td>\n",
       "      <td>0.149059</td>\n",
       "      <td>0.004865</td>\n",
       "      <td>0.026921</td>\n",
       "      <td>1.000000</td>\n",
       "      <td>0.013738</td>\n",
       "    </tr>\n",
       "    <tr>\n",
       "      <th>google_an</th>\n",
       "      <td>0.000793</td>\n",
       "      <td>-0.019165</td>\n",
       "      <td>-0.110471</td>\n",
       "      <td>-0.109130</td>\n",
       "      <td>-0.109831</td>\n",
       "      <td>-0.027705</td>\n",
       "      <td>-0.051017</td>\n",
       "      <td>-0.077330</td>\n",
       "      <td>0.112628</td>\n",
       "      <td>0.056085</td>\n",
       "      <td>...</td>\n",
       "      <td>0.023145</td>\n",
       "      <td>-0.032663</td>\n",
       "      <td>-0.000719</td>\n",
       "      <td>-0.011996</td>\n",
       "      <td>-0.035567</td>\n",
       "      <td>0.079510</td>\n",
       "      <td>0.035376</td>\n",
       "      <td>-0.016208</td>\n",
       "      <td>0.013738</td>\n",
       "      <td>1.000000</td>\n",
       "    </tr>\n",
       "  </tbody>\n",
       "</table>\n",
       "<p>21 rows × 21 columns</p>\n",
       "</div>"
      ],
      "text/plain": [
       "                  index    Rating  Lower Salary  Upper Salary  Avg Salary(K)  \\\n",
       "index          1.000000 -0.108849     -0.039434     -0.024457      -0.030434   \n",
       "Rating        -0.108849  1.000000      0.089490      0.067267       0.075517   \n",
       "Lower Salary  -0.039434  0.089490      1.000000      0.827712       0.898649   \n",
       "Upper Salary  -0.024457  0.067267      0.827712      1.000000       0.933083   \n",
       "Avg Salary(K) -0.030434  0.075517      0.898649      0.933083       1.000000   \n",
       "Python        -0.089120  0.142422      0.293786      0.250991       0.268659   \n",
       "spark         -0.054513  0.132317      0.165254      0.160866       0.163567   \n",
       "aws            0.023301  0.130227      0.144413      0.151720       0.151242   \n",
       "excel         -0.028314 -0.029241     -0.069040     -0.066384      -0.065440   \n",
       "sql           -0.028488  0.099030      0.039622      0.002768       0.016644   \n",
       "sas            0.000397 -0.042090      0.074079      0.038596       0.053381   \n",
       "keras         -0.089701  0.065287      0.112568      0.118796       0.119641   \n",
       "pytorch       -0.011000  0.037254      0.074483      0.054578       0.062310   \n",
       "scikit        -0.099187  0.100541      0.164034      0.148446       0.157615   \n",
       "tensor        -0.075513  0.073860      0.162828      0.160067       0.163292   \n",
       "hadoop         0.003844  0.125784      0.113937      0.114865       0.116612   \n",
       "tableau       -0.032111  0.013975     -0.037193     -0.071074      -0.057726   \n",
       "bi            -0.011638  0.022920     -0.012876     -0.042932      -0.031320   \n",
       "flink         -0.004191  0.057153      0.072209      0.083781       0.078724   \n",
       "mongo         -0.013568  0.008015      0.077145      0.079966       0.079381   \n",
       "google_an      0.000793 -0.019165     -0.110471     -0.109130      -0.109831   \n",
       "\n",
       "                 Python     spark       aws     excel       sql  ...  \\\n",
       "index         -0.089120 -0.054513  0.023301 -0.028314 -0.028488  ...   \n",
       "Rating         0.142422  0.132317  0.130227 -0.029241  0.099030  ...   \n",
       "Lower Salary   0.293786  0.165254  0.144413 -0.069040  0.039622  ...   \n",
       "Upper Salary   0.250991  0.160866  0.151720 -0.066384  0.002768  ...   \n",
       "Avg Salary(K)  0.268659  0.163567  0.151242 -0.065440  0.016644  ...   \n",
       "Python         1.000000  0.347619  0.203221 -0.021519  0.373999  ...   \n",
       "spark          0.347619  1.000000  0.298822 -0.047334  0.261304  ...   \n",
       "aws            0.203221  0.298822  1.000000 -0.019235  0.106902  ...   \n",
       "excel         -0.021519 -0.047334 -0.019235  1.000000  0.109548  ...   \n",
       "sql            0.373999  0.261304  0.106902  0.109548  1.000000  ...   \n",
       "sas            0.086607 -0.055031 -0.140850  0.052017  0.200788  ...   \n",
       "keras          0.190566  0.107790  0.132776 -0.030136  0.015975  ...   \n",
       "pytorch        0.113676  0.032138  0.110025 -0.065215 -0.011757  ...   \n",
       "scikit         0.254331  0.271394  0.087712 -0.023238  0.096994  ...   \n",
       "tensor         0.209430  0.237612  0.116905 -0.078846  0.037589  ...   \n",
       "hadoop         0.235114  0.537081  0.276749  0.022847  0.278207  ...   \n",
       "tableau        0.154118 -0.018655 -0.000834  0.145915  0.379234  ...   \n",
       "bi             0.167770 -0.044026  0.032589  0.068613  0.248244  ...   \n",
       "flink          0.063615  0.216880  0.154647 -0.028762 -0.049602  ...   \n",
       "mongo          0.080035  0.232356  0.177929  0.094860  0.198825  ...   \n",
       "google_an     -0.027705 -0.051017 -0.077330  0.112628  0.056085  ...   \n",
       "\n",
       "                  keras   pytorch    scikit    tensor    hadoop   tableau  \\\n",
       "index         -0.089701 -0.011000 -0.099187 -0.075513  0.003844 -0.032111   \n",
       "Rating         0.065287  0.037254  0.100541  0.073860  0.125784  0.013975   \n",
       "Lower Salary   0.112568  0.074483  0.164034  0.162828  0.113937 -0.037193   \n",
       "Upper Salary   0.118796  0.054578  0.148446  0.160067  0.114865 -0.071074   \n",
       "Avg Salary(K)  0.119641  0.062310  0.157615  0.163292  0.116612 -0.057726   \n",
       "Python         0.190566  0.113676  0.254331  0.209430  0.235114  0.154118   \n",
       "spark          0.107790  0.032138  0.271394  0.237612  0.537081 -0.018655   \n",
       "aws            0.132776  0.110025  0.087712  0.116905  0.276749 -0.000834   \n",
       "excel         -0.030136 -0.065215 -0.023238 -0.078846  0.022847  0.145915   \n",
       "sql            0.015975 -0.011757  0.096994  0.037589  0.278207  0.379234   \n",
       "sas           -0.063016 -0.052381  0.021811 -0.054448 -0.076515  0.152072   \n",
       "keras          1.000000  0.357628  0.505696  0.544731  0.002864 -0.031054   \n",
       "pytorch        0.357628  1.000000  0.398992  0.636887 -0.040753 -0.117569   \n",
       "scikit         0.505696  0.398992  1.000000  0.521607  0.138724 -0.035976   \n",
       "tensor         0.544731  0.636887  0.521607  1.000000 -0.012599 -0.129449   \n",
       "hadoop         0.002864 -0.040753  0.138724 -0.012599  1.000000  0.092814   \n",
       "tableau       -0.031054 -0.117569 -0.035976 -0.129449  0.092814  1.000000   \n",
       "bi            -0.057622 -0.067296 -0.001482 -0.093661  0.022448  0.457481   \n",
       "flink         -0.023572 -0.027530  0.057243  0.119629  0.135617 -0.058342   \n",
       "mongo          0.049647 -0.053959  0.031159 -0.012347  0.196110  0.149059   \n",
       "google_an      0.023145 -0.032663 -0.000719 -0.011996 -0.035567  0.079510   \n",
       "\n",
       "                     bi     flink     mongo  google_an  \n",
       "index         -0.011638 -0.004191 -0.013568   0.000793  \n",
       "Rating         0.022920  0.057153  0.008015  -0.019165  \n",
       "Lower Salary  -0.012876  0.072209  0.077145  -0.110471  \n",
       "Upper Salary  -0.042932  0.083781  0.079966  -0.109130  \n",
       "Avg Salary(K) -0.031320  0.078724  0.079381  -0.109831  \n",
       "Python         0.167770  0.063615  0.080035  -0.027705  \n",
       "spark         -0.044026  0.216880  0.232356  -0.051017  \n",
       "aws            0.032589  0.154647  0.177929  -0.077330  \n",
       "excel          0.068613 -0.028762  0.094860   0.112628  \n",
       "sql            0.248244 -0.049602  0.198825   0.056085  \n",
       "sas            0.054106 -0.036521  0.102419   0.095853  \n",
       "keras         -0.057622 -0.023572  0.049647   0.023145  \n",
       "pytorch       -0.067296 -0.027530 -0.053959  -0.032663  \n",
       "scikit        -0.001482  0.057243  0.031159  -0.000719  \n",
       "tensor        -0.093661  0.119629 -0.012347  -0.011996  \n",
       "hadoop         0.022448  0.135617  0.196110  -0.035567  \n",
       "tableau        0.457481 -0.058342  0.149059   0.079510  \n",
       "bi             1.000000 -0.033395  0.004865   0.035376  \n",
       "flink         -0.033395  1.000000  0.026921  -0.016208  \n",
       "mongo          0.004865  0.026921  1.000000   0.013738  \n",
       "google_an      0.035376 -0.016208  0.013738   1.000000  \n",
       "\n",
       "[21 rows x 21 columns]"
      ]
     },
     "execution_count": 39,
     "metadata": {},
     "output_type": "execute_result"
    }
   ],
   "source": [
    "Salaries.corr(method='kendall')"
   ]
  },
  {
   "cell_type": "code",
   "execution_count": 40,
   "id": "d209c07f",
   "metadata": {},
   "outputs": [],
   "source": [
    "import pandas as pd\n",
    "import numpy as np\n",
    "import matplotlib.pyplot as plt\n",
    "from pylab import *\n",
    "import seaborn as sns\n",
    "%matplotlib inline\n",
    "import  statsmodels.api as sm\n",
    "import statsmodels.stats.api as sms\n",
    "from scipy.stats import boxcox"
   ]
  },
  {
   "cell_type": "markdown",
   "id": "7b4e76b2",
   "metadata": {},
   "source": [
    "### Testing for Linearity and Normality"
   ]
  },
  {
   "cell_type": "code",
   "execution_count": 140,
   "id": "f300e46a",
   "metadata": {},
   "outputs": [
    {
     "data": {
      "text/plain": [
       "<seaborn.axisgrid.PairGrid at 0x2bdaeddaa00>"
      ]
     },
     "execution_count": 140,
     "metadata": {},
     "output_type": "execute_result"
    },
    {
     "data": {
      "image/png": "[encoded data removed]",
      "text/plain": [
       "<Figure size 3960x3960 with 506 Axes>"
      ]
     },
     "metadata": {
      "needs_background": "light"
     },
     "output_type": "display_data"
    }
   ],
   "source": [
    "sns.pairplot(Salaries.head(10))"
   ]
  },
  {
   "cell_type": "markdown",
   "id": "e0a45b88",
   "metadata": {},
   "source": [
    "Avg Salary of each skill (0-not used, 1-use)"
   ]
  },
  {
   "cell_type": "code",
   "execution_count": 42,
   "id": "e6795771",
   "metadata": {},
   "outputs": [
    {
     "name": "stdout",
     "output_type": "stream",
     "text": [
      "Python\n",
      "0     88.975714\n",
      "1    112.653061\n",
      "Name: Avg Salary(K), dtype: float64\n"
     ]
    }
   ],
   "source": [
    "pythonavg = Salaries.groupby(['Python'])['Avg Salary(K)'].mean()\n",
    "print(pythonavg)"
   ]
  },
  {
   "cell_type": "code",
   "execution_count": 43,
   "id": "373b1d8f",
   "metadata": {},
   "outputs": [
    {
     "data": {
      "text/plain": [
       "aws\n",
       "0     97.878092\n",
       "1    113.082386\n",
       "Name: Avg Salary(K), dtype: float64"
      ]
     },
     "execution_count": 43,
     "metadata": {},
     "output_type": "execute_result"
    }
   ],
   "source": [
    "\n",
    "awsAvg =Salaries.groupby(['aws'])['Avg Salary(K)'].mean()\n",
    "awsAvg"
   ]
  },
  {
   "cell_type": "code",
   "execution_count": 44,
   "id": "fee5fedd",
   "metadata": {},
   "outputs": [
    {
     "data": {
      "text/plain": [
       "spark\n",
       "0     98.039130\n",
       "1    113.347305\n",
       "Name: Avg Salary(K), dtype: float64"
      ]
     },
     "execution_count": 44,
     "metadata": {},
     "output_type": "execute_result"
    }
   ],
   "source": [
    "sparkAvg = Salaries.groupby(['spark'])['Avg Salary(K)'].mean()\n",
    "sparkAvg"
   ]
  },
  {
   "cell_type": "code",
   "execution_count": 45,
   "id": "c0f1f2ef",
   "metadata": {},
   "outputs": [
    {
     "data": {
      "text/plain": [
       "excel\n",
       "0    104.320621\n",
       "1     98.896907\n",
       "Name: Avg Salary(K), dtype: float64"
      ]
     },
     "execution_count": 45,
     "metadata": {},
     "output_type": "execute_result"
    }
   ],
   "source": [
    "excelAvg = Salaries.groupby(['excel'])['Avg Salary(K)'].mean()\n",
    "excelAvg"
   ]
  },
  {
   "cell_type": "code",
   "execution_count": 46,
   "id": "468f0ca4",
   "metadata": {},
   "outputs": [
    {
     "data": {
      "text/plain": [
       "sql\n",
       "0    101.407459\n",
       "1    101.557895\n",
       "Name: Avg Salary(K), dtype: float64"
      ]
     },
     "execution_count": 46,
     "metadata": {},
     "output_type": "execute_result"
    }
   ],
   "source": [
    "sqlAvg = Salaries.groupby(['sql'])['Avg Salary(K)'].mean()\n",
    "sqlAvg"
   ]
  },
  {
   "cell_type": "code",
   "execution_count": 47,
   "id": "9c3766fa",
   "metadata": {},
   "outputs": [
    {
     "data": {
      "text/plain": [
       "sas\n",
       "0    100.291420\n",
       "1    113.704545\n",
       "Name: Avg Salary(K), dtype: float64"
      ]
     },
     "execution_count": 47,
     "metadata": {},
     "output_type": "execute_result"
    }
   ],
   "source": [
    "sasAvg = Salaries.groupby(['sas'])['Avg Salary(K)'].mean()\n",
    "sasAvg"
   ]
  },
  {
   "cell_type": "code",
   "execution_count": 48,
   "id": "a52f0307",
   "metadata": {},
   "outputs": [
    {
     "data": {
      "text/plain": [
       "keras\n",
       "0    100.610799\n",
       "1    122.965517\n",
       "Name: Avg Salary(K), dtype: float64"
      ]
     },
     "execution_count": 48,
     "metadata": {},
     "output_type": "execute_result"
    }
   ],
   "source": [
    "kerasAvg = Salaries.groupby(['keras'])['Avg Salary(K)'].mean()\n",
    "kerasAvg"
   ]
  },
  {
   "cell_type": "code",
   "execution_count": 49,
   "id": "b5b5aaad",
   "metadata": {},
   "outputs": [
    {
     "data": {
      "text/plain": [
       "pytorch\n",
       "0    101.089616\n",
       "1    108.602564\n",
       "Name: Avg Salary(K), dtype: float64"
      ]
     },
     "execution_count": 49,
     "metadata": {},
     "output_type": "execute_result"
    }
   ],
   "source": [
    "pytorchAvg = Salaries.groupby(['pytorch'])['Avg Salary(K)'].mean()\n",
    "pytorchAvg"
   ]
  },
  {
   "cell_type": "code",
   "execution_count": 50,
   "id": "db2a2676",
   "metadata": {},
   "outputs": [
    {
     "data": {
      "text/plain": [
       "scikit\n",
       "0     99.614099\n",
       "1    125.314815\n",
       "Name: Avg Salary(K), dtype: float64"
      ]
     },
     "execution_count": 50,
     "metadata": {},
     "output_type": "execute_result"
    }
   ],
   "source": [
    "scikitAvg = Salaries.groupby(['scikit'])['Avg Salary(K)'].mean()\n",
    "scikitAvg"
   ]
  },
  {
   "cell_type": "code",
   "execution_count": 51,
   "id": "749d0823",
   "metadata": {},
   "outputs": [
    {
     "data": {
      "text/plain": [
       "tensor\n",
       "0     99.518657\n",
       "1    119.777778\n",
       "Name: Avg Salary(K), dtype: float64"
      ]
     },
     "execution_count": 51,
     "metadata": {},
     "output_type": "execute_result"
    }
   ],
   "source": [
    "tensorAvg = Salaries.groupby(['tensor'])['Avg Salary(K)'].mean()\n",
    "tensorAvg"
   ]
  },
  {
   "cell_type": "code",
   "execution_count": 52,
   "id": "6399e6f9",
   "metadata": {},
   "outputs": [
    {
     "data": {
      "text/plain": [
       "hadoop\n",
       "0     99.629450\n",
       "1    110.729839\n",
       "Name: Avg Salary(K), dtype: float64"
      ]
     },
     "execution_count": 52,
     "metadata": {},
     "output_type": "execute_result"
    }
   ],
   "source": [
    "hadoopAvg = Salaries.groupby(['hadoop'])['Avg Salary(K)'].mean()\n",
    "hadoopAvg"
   ]
  },
  {
   "cell_type": "code",
   "execution_count": 53,
   "id": "9550b2d8",
   "metadata": {},
   "outputs": [
    {
     "data": {
      "text/plain": [
       "tableau\n",
       "0    102.882155\n",
       "1     95.875000\n",
       "Name: Avg Salary(K), dtype: float64"
      ]
     },
     "execution_count": 53,
     "metadata": {},
     "output_type": "execute_result"
    }
   ],
   "source": [
    "tableauAvg = Salaries.groupby(['tableau'])['Avg Salary(K)'].mean()\n",
    "tableauAvg"
   ]
  },
  {
   "cell_type": "code",
   "execution_count": 54,
   "id": "02c59646",
   "metadata": {},
   "outputs": [
    {
     "data": {
      "text/plain": [
       "bi\n",
       "0    101.960641\n",
       "1     95.651786\n",
       "Name: Avg Salary(K), dtype: float64"
      ]
     },
     "execution_count": 54,
     "metadata": {},
     "output_type": "execute_result"
    }
   ],
   "source": [
    "biAvg = Salaries.groupby(['bi'])['Avg Salary(K)'].mean()\n",
    "biAvg"
   ]
  },
  {
   "cell_type": "code",
   "execution_count": 55,
   "id": "b7fb60af",
   "metadata": {},
   "outputs": [
    {
     "data": {
      "text/plain": [
       "flink\n",
       "0    101.108607\n",
       "1    129.000000\n",
       "Name: Avg Salary(K), dtype: float64"
      ]
     },
     "execution_count": 55,
     "metadata": {},
     "output_type": "execute_result"
    }
   ],
   "source": [
    "flinkAvg = Salaries.groupby(['flink'])['Avg Salary(K)'].mean()\n",
    "flinkAvg"
   ]
  },
  {
   "cell_type": "code",
   "execution_count": 56,
   "id": "fff8a192",
   "metadata": {},
   "outputs": [
    {
     "data": {
      "text/plain": [
       "mongo\n",
       "0    100.875887\n",
       "1    113.081081\n",
       "Name: Avg Salary(K), dtype: float64"
      ]
     },
     "execution_count": 56,
     "metadata": {},
     "output_type": "execute_result"
    }
   ],
   "source": [
    "mongoAvg = Salaries.groupby(['mongo'])['Avg Salary(K)'].mean()\n",
    "mongoAvg"
   ]
  },
  {
   "cell_type": "code",
   "execution_count": 57,
   "id": "f644856a",
   "metadata": {},
   "outputs": [
    {
     "data": {
      "text/plain": [
       "google_an\n",
       "0    102.125000\n",
       "1     68.178571\n",
       "Name: Avg Salary(K), dtype: float64"
      ]
     },
     "execution_count": 57,
     "metadata": {},
     "output_type": "execute_result"
    }
   ],
   "source": [
    "google_anAvg = Salaries.groupby(['google_an'])['Avg Salary(K)'].mean()\n",
    "google_anAvg"
   ]
  },
  {
   "cell_type": "code",
   "execution_count": 58,
   "id": "aac26740",
   "metadata": {},
   "outputs": [
    {
     "data": {
      "text/plain": [
       "flink  keras  scikit  sas  spark  Python  excel  sql  pytorch  tensor  hadoop  bi  google_an  tableau  aws\n",
       "0      0      0       0    0      0       1      0    0        0       0       0   0          1        0       27.500000\n",
       "                           1      0       0      1    0        0       0       0   0          0        0       47.000000\n",
       "                      1    0      0       1      1    0        0       0       0   1          1        0       48.500000\n",
       "                      0    0      1       1      1    0        0       0       1   0          0        0       51.500000\n",
       "                                  0       1      0    0        0       0       0   1          0        0       53.166667\n",
       "                                                                                                                 ...    \n",
       "                      1    0      0       1      1    0        0       0       0   0          1        1      169.000000\n",
       "              1       0    0      1       0      1    0        0       0       0   0          0        0      170.000000\n",
       "              0       0    0      1       0      1    0        0       1       0   0          0        1      171.500000\n",
       "                                          1      0    0        0       0       0   0          1        1      225.000000\n",
       "                      1    0      1       0      0    0        0       0       0   0          0        0      230.200000\n",
       "Name: Avg Salary(K), Length: 159, dtype: float64"
      ]
     },
     "execution_count": 58,
     "metadata": {},
     "output_type": "execute_result"
    }
   ],
   "source": [
    "Salaries.groupby(['flink', 'keras', 'scikit', 'sas', 'spark', 'Python', 'excel', 'sql', 'pytorch', 'tensor', 'hadoop', 'bi', 'google_an', 'tableau', 'aws'])['Avg Salary(K)'].mean().sort_values()"
   ]
  },
  {
   "cell_type": "code",
   "execution_count": 59,
   "id": "bdcc9b47",
   "metadata": {},
   "outputs": [],
   "source": [
    "import scipy.stats as stats "
   ]
  },
  {
   "cell_type": "code",
   "execution_count": 60,
   "id": "34e830f4",
   "metadata": {},
   "outputs": [
    {
     "data": {
      "text/plain": [
       "F_onewayResult(statistic=0.6424029292139949, pvalue=0.7743819587705769)"
      ]
     },
     "execution_count": 60,
     "metadata": {},
     "output_type": "execute_result"
    }
   ],
   "source": [
    "stats.f_oneway(flinkAvg, kerasAvg, scikitAvg, sasAvg, sparkAvg, pythonavg, excelAvg, sqlAvg, pytorchAvg, tensorAvg, hadoopAvg, biAvg, google_anAvg)"
   ]
  },
  {
   "cell_type": "markdown",
   "id": "a76df330",
   "metadata": {},
   "source": [
    "In the anova test I wanted to see if there was significance between the avgerages of programs.  The p-value of .77 indicates that there is no significance between the avgerages."
   ]
  },
  {
   "cell_type": "code",
   "execution_count": 61,
   "id": "3bbd87f2-ef6f-491f-9a44-e547573eea33",
   "metadata": {},
   "outputs": [
    {
     "name": "stdout",
     "output_type": "stream",
     "text": [
      "0        0.517632\n",
      "1      100.000000\n",
      "2        0.611093\n",
      "3        0.549984\n",
      "4        0.823178\n",
      "          ...    \n",
      "737     50.000000\n",
      "738      6.004687\n",
      "739     33.333333\n",
      "740     26.757608\n",
      "741     50.000000\n",
      "Name: Avg Salary(K), Length: 742, dtype: float64\n"
     ]
    }
   ],
   "source": [
    "salary_percent = 100 * Salaries['Avg Salary(K)'] / Salaries.groupby('Job Title')['Avg Salary(K)'].transform('sum')\n",
    "print(salary_percent)"
   ]
  },
  {
   "cell_type": "code",
   "execution_count": 62,
   "id": "2c08f072",
   "metadata": {},
   "outputs": [],
   "source": [
    "Salary_Percent = pd.DataFrame(salary_percent)\n",
    "Salary_Percent.to_csv('Percent of Title by Salary.csv')"
   ]
  },
  {
   "cell_type": "code",
   "execution_count": 63,
   "id": "f1be877c-8d7e-4427-9a76-57b5524f5e7c",
   "metadata": {},
   "outputs": [
    {
     "name": "stdout",
     "output_type": "stream",
     "text": [
      "0      0.005176\n",
      "1      1.000000\n",
      "2      0.006111\n",
      "3      0.005500\n",
      "4      0.008232\n",
      "         ...   \n",
      "737    0.500000\n",
      "738    0.060047\n",
      "739    0.333333\n",
      "740    0.267576\n",
      "741    0.500000\n",
      "Name: Salary_Title, Length: 742, dtype: float64\n"
     ]
    }
   ],
   "source": [
    "Salaries['Salary_Title'] = Salaries.groupby(['Job Title'])['Avg Salary(K)'].transform(lambda x: x/x.sum())\n",
    "print(Salaries['Salary_Title'])"
   ]
  },
  {
   "cell_type": "code",
   "execution_count": 64,
   "id": "248e3490",
   "metadata": {},
   "outputs": [],
   "source": [
    "Salary_Percent2 = pd.DataFrame(Salaries['Salary_Title']) \n",
    "Salary_Percent2.to_csv('Percent by Title 2.csv')"
   ]
  },
  {
   "cell_type": "code",
   "execution_count": 65,
   "id": "b75e7896-49fe-45ad-ac3d-6fdb159ee8f5",
   "metadata": {},
   "outputs": [
    {
     "name": "stdout",
     "output_type": "stream",
     "text": [
      "                                                                  Avg Salary(K)\n",
      "Job Title                                          Avg Salary(K)               \n",
      "Ag Data Scientist                                  80.5                    80.5\n",
      "Analytics - Business Assurance Data Analyst        43.0                    86.0\n",
      "Analytics Consultant                               66.5                    66.5\n",
      "Analytics Manager                                  87.5                   175.0\n",
      "Analytics Manager - Data Mart                      64.0                   256.0\n",
      "...                                                                         ...\n",
      "System and Data Analyst                            59.0                    59.0\n",
      "Systems Engineer II - Data Analyst                 62.5                   125.0\n",
      "Technology-Minded, Data Professional Opportunities 70.5                   141.0\n",
      "VP, Data Science                                   124.5                  249.0\n",
      "Web Data Analyst                                   106.0                  106.0\n",
      "\n",
      "[432 rows x 1 columns]\n"
     ]
    }
   ],
   "source": [
    "Salaries2 = Salaries.groupby(['Job Title', 'Avg Salary(K)']).agg({'Avg Salary(K)': 'sum'})\n",
    "print(Salaries2)"
   ]
  },
  {
   "cell_type": "code",
   "execution_count": 66,
   "id": "f1429631-e00c-4922-9820-18e8371b2107",
   "metadata": {},
   "outputs": [
    {
     "name": "stdout",
     "output_type": "stream",
     "text": [
      "                                                                  Avg Salary(K)\n",
      "Job Title                                          Avg Salary(K)               \n",
      "Ag Data Scientist                                  80.5              100.000000\n",
      "Analytics - Business Assurance Data Analyst        43.0              100.000000\n",
      "Analytics Consultant                               66.5              100.000000\n",
      "Analytics Manager                                  87.5              100.000000\n",
      "Analytics Manager - Data Mart                      64.0              100.000000\n",
      "Assistant Director/Director, Office of Data Sci... 53.0              100.000000\n",
      "Associate Data Analyst                             29.5               38.311688\n",
      "                                                   47.5               61.688312\n",
      "Associate Data Analyst- Graduate Development Pr... 45.5              100.000000\n",
      "Associate Data Engineer                            65.5              100.000000\n",
      "Associate Data Scientist/Computer Scientist        81.5              100.000000\n",
      "Associate Director, Platform and DevOps- Data E... 154.5             100.000000\n",
      "Associate Director/Director, Safety Scientist      140.0             100.000000\n",
      "Associate Environmental Scientist - Wildlife Bi... 51.0              100.000000\n",
      "Associate Machine Learning Engineer / Data Scie... 74.5              100.000000\n",
      "Associate Principal Scientist, Pharmacogenomics    95.0              100.000000\n",
      "Associate Research Scientist I (Protein Express... 87.5              100.000000\n",
      "Associate Scientist                                81.5              100.000000\n",
      "Associate Scientist / Sr. Associate Scientist, ... 92.0              100.000000\n",
      "Associate Scientist, LC/MS Biologics               70.0              100.000000\n",
      "Associate Scientist/Scientist, Process Analytic... 125.0             100.000000\n",
      "Associate, Data Science, Internal Audit            62.5              100.000000\n",
      "BI & Platform Analytics Manager                    109.5             100.000000\n",
      "Big Data Engineer                                  90.5               43.301435\n",
      "                                                   118.5              56.698565\n",
      "Big Data Engineer - Chicago - Future Opportunity   100.0             100.000000\n",
      "Business Data Analyst                              53.5              100.000000\n",
      "Business Data Analyst, SQL                         65.0              100.000000\n",
      "Business Intelligence Analyst / Developer          79.0              100.000000\n",
      "CONSULTANT– DATA ANALYTICS GROUP                   52.5              100.000000\n",
      "Clinical Data Analyst                              37.5               51.546392\n",
      "                                                   70.5               48.453608\n",
      "Clinical Data Scientist                            84.0              100.000000\n",
      "Clinical Laboratory Scientist                      65.0              100.000000\n",
      "Clinical Scientist, Clinical Development           76.5              100.000000\n",
      "College Hire - Data Scientist - Open to Decembe... 81.0              100.000000\n",
      "Computational Chemist/Data Scientist               76.5              100.000000\n",
      "Consultant - Analytics Consulting                  62.5              100.000000\n",
      "Corporate Risk Data Analyst (SQL Based) - Milwa... 60.0              100.000000\n",
      "Customer Data Scientist                            153.5             100.000000\n",
      "Customer Data Scientist/Sales Engineer             137.5             100.000000\n",
      "Customer Data Scientist/Sales Engineer (Bay        150.5             100.000000\n",
      "Data & Analytics Consultant (NYC)                  114.5             100.000000\n",
      "Data Analyst                                       47.5                4.776269\n",
      "                                                   49.0                4.927099\n",
      "                                                   53.5                5.379588\n",
      "                                                   56.5                5.681247\n",
      "                                                   59.5                5.982906\n",
      "                                                   62.0                6.234289\n",
      "                                                   65.5                6.586224\n"
     ]
    }
   ],
   "source": [
    "Salaries3 = Salaries2.groupby(level=0).apply(lambda x:100 * x / float(x.sum()))\n",
    "print(Salaries3.head(50))"
   ]
  },
  {
   "cell_type": "code",
   "execution_count": 67,
   "id": "ddf24ef2-7410-46d2-b675-5fbc0d638b5b",
   "metadata": {},
   "outputs": [],
   "source": [
    "PerSect = pd.DataFrame(Salaries3)\n",
    "PerSect.to_csv('Percent_of_Sector.csv')"
   ]
  },
  {
   "cell_type": "markdown",
   "id": "fc818d5c",
   "metadata": {},
   "source": [
    "# Histogram of company ratings"
   ]
  },
  {
   "cell_type": "code",
   "execution_count": 68,
   "id": "07e23c05",
   "metadata": {},
   "outputs": [
    {
     "data": {
      "text/plain": [
       "<AxesSubplot:>"
      ]
     },
     "execution_count": 68,
     "metadata": {},
     "output_type": "execute_result"
    },
    {
     "data": {
      "image/png": "[encoded data removed]",
      "text/plain": [
       "<Figure size 432x288 with 1 Axes>"
      ]
     },
     "metadata": {
      "needs_background": "light"
     },
     "output_type": "display_data"
    }
   ],
   "source": [
    "Salaries.Rating.hist()"
   ]
  },
  {
   "cell_type": "markdown",
   "id": "24a2bdc5",
   "metadata": {},
   "source": [
    "Majority of the companies have a rating between a 3 and 4."
   ]
  },
  {
   "cell_type": "markdown",
   "id": "42ba8c52",
   "metadata": {},
   "source": [
    "# Histomgram and Bar chart of Company Ratings"
   ]
  },
  {
   "cell_type": "code",
   "execution_count": 69,
   "id": "c374ddf3",
   "metadata": {},
   "outputs": [
    {
     "name": "stderr",
     "output_type": "stream",
     "text": [
      "C:\\Python39\\lib\\site-packages\\seaborn\\distributions.py:2619: FutureWarning: `distplot` is a deprecated function and will be removed in a future version. Please adapt your code to use either `displot` (a figure-level function with similar flexibility) or `histplot` (an axes-level function for histograms).\n",
      "  warnings.warn(msg, FutureWarning)\n"
     ]
    },
    {
     "data": {
      "text/plain": [
       "<AxesSubplot:xlabel='Rating', ylabel='Density'>"
      ]
     },
     "execution_count": 69,
     "metadata": {},
     "output_type": "execute_result"
    },
    {
     "data": {
      "image/png": "[encoded data removed]",
      "text/plain": [
       "<Figure size 432x288 with 1 Axes>"
      ]
     },
     "metadata": {
      "needs_background": "light"
     },
     "output_type": "display_data"
    }
   ],
   "source": [
    "sns.distplot(Salaries['Rating'])"
   ]
  },
  {
   "cell_type": "code",
   "execution_count": 70,
   "id": "e158eb82",
   "metadata": {},
   "outputs": [
    {
     "data": {
      "text/plain": [
       "<AxesSubplot:>"
      ]
     },
     "execution_count": 70,
     "metadata": {},
     "output_type": "execute_result"
    },
    {
     "data": {
      "image/png": "[encoded data removed]",
      "text/plain": [
       "<Figure size 432x288 with 1 Axes>"
      ]
     },
     "metadata": {
      "needs_background": "light"
     },
     "output_type": "display_data"
    }
   ],
   "source": [
    "Salaries['Rating'].value_counts().plot(kind= 'bar')"
   ]
  },
  {
   "cell_type": "markdown",
   "id": "e04216cb",
   "metadata": {},
   "source": [
    "Majority of the company ratings are between a 3-4 star rating. "
   ]
  },
  {
   "cell_type": "markdown",
   "id": "7b4d42b3",
   "metadata": {},
   "source": [
    "# Bar chart of Type of Comany Ownership"
   ]
  },
  {
   "cell_type": "code",
   "execution_count": 139,
   "id": "c9243774",
   "metadata": {},
   "outputs": [
    {
     "data": {
      "text/plain": [
       "Text(0, 0.5, 'Frequency')"
      ]
     },
     "execution_count": 139,
     "metadata": {},
     "output_type": "execute_result"
    },
    {
     "data": {
      "image/png": "[encoded data removed]",
      "text/plain": [
       "<Figure size 432x288 with 1 Axes>"
      ]
     },
     "metadata": {
      "needs_background": "light"
     },
     "output_type": "display_data"
    }
   ],
   "source": [
    "OwnershipType=  Salaries['Type of ownership'].value_counts().plot(kind= 'bar')\n",
    "OwnershipType.set_title(\"Company Ownership Type\")\n",
    "OwnershipType.set_xlabel(\"Type of Ownership\")\n",
    "OwnershipType.set_ylabel(\"Frequency\")\n"
   ]
  },
  {
   "cell_type": "markdown",
   "id": "8c4d5e70",
   "metadata": {},
   "source": [
    "Based on the visual, there are more private owned companies. "
   ]
  }
 ],
 "metadata": {
  "kernelspec": {
   "display_name": "Python 3 (ipykernel)",
   "language": "python",
   "name": "python3"
  },
  "language_info": {
   "codemirror_mode": {
    "name": "ipython",
    "version": 3
   },
   "file_extension": ".py",
   "mimetype": "text/x-python",
   "name": "python",
   "nbconvert_exporter": "python",
   "pygments_lexer": "ipython3",
   "version": "3.9.7"
  }
 },
 "nbformat": 4,
 "nbformat_minor": 5
}
